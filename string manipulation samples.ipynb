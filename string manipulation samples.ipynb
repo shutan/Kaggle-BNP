{
 "cells": [
  {
   "cell_type": "code",
   "execution_count": 1,
   "metadata": {
    "collapsed": false,
    "scrolled": true
   },
   "outputs": [
    {
     "name": "stdout",
     "output_type": "stream",
     "text": [
      "[1, 2, 4, 5]\n"
     ]
    }
   ],
   "source": [
    "str_list=['1','2','4','5']\n",
    "int_list=[int(x) for x in str_list]\n",
    "print int_list"
   ]
  },
  {
   "cell_type": "code",
   "execution_count": 4,
   "metadata": {
    "collapsed": false
   },
   "outputs": [
    {
     "name": "stdout",
     "output_type": "stream",
     "text": [
      "[1.02, 3.098, 0.98]\n"
     ]
    }
   ],
   "source": [
    "str_list2=['1.02','3.098','0.98']\n",
    "float_list=[float(x) for x in str_list2]\n",
    "print float_list\n"
   ]
  },
  {
   "cell_type": "code",
   "execution_count": 5,
   "metadata": {
    "collapsed": false
   },
   "outputs": [
    {
     "name": "stdout",
     "output_type": "stream",
     "text": [
      "300345000\n"
     ]
    }
   ],
   "source": [
    "str_number='300,345,000'\n",
    "int_number=str_number.replace(',','')\n",
    "print int_number"
   ]
  },
  {
   "cell_type": "code",
   "execution_count": 8,
   "metadata": {
    "collapsed": false
   },
   "outputs": [
    {
     "name": "stdout",
     "output_type": "stream",
     "text": [
      "Today is a rainingny day, the raining is so sunny\n"
     ]
    }
   ],
   "source": [
    "#2 is the limit for replace occurance \n",
    "# replace is case sensitive \n",
    "string1='Today is a sunny day, the sun is so sunny'\n",
    "string1_modify=string1.replace('sun','raining',2)\n",
    "print string1_modify"
   ]
  },
  {
   "cell_type": "code",
   "execution_count": 15,
   "metadata": {
    "collapsed": false
   },
   "outputs": [
    {
     "name": "stdout",
     "output_type": "stream",
     "text": [
      "TOday is a sunny day, the sun is so sunny day\n"
     ]
    }
   ],
   "source": [
    "# use re.IGNORECASE \n",
    "import re\n",
    "scr_string='TODAY is a sunny Day, the sun is so sunny day'\n",
    "scr_string=re.compile('day',re.IGNORECASE)\n",
    "scr_modify=scr_string.sub('day','TODAY is a sunny Day, the sun is so sunny day')\n",
    "print scr_modify"
   ]
  },
  {
   "cell_type": "code",
   "execution_count": 21,
   "metadata": {
    "collapsed": false
   },
   "outputs": [
    {
     "name": "stdout",
     "output_type": "stream",
     "text": [
      "[3.4, 7, 2, 2, 3, 2, [3, 5, 6], 2, 3, 4]\n",
      "[4, 3, 2, [3, 5, 6], 2, 3, 2, 2, 7, 3.4]\n",
      "[2, 2, 2, 2, 3, 3, 3.4, 4, 7, [3, 5, 6]]\n"
     ]
    }
   ],
   "source": [
    "# list reversed() and sorted() functions \n",
    "list_1=[3.4, 7, 2, 2, 3, 2, [3, 5, 6], 2, 3, 4]\n",
    "print list_1\n",
    "print list(reversed(list_1))\n",
    "print sorted(list_1)"
   ]
  },
  {
   "cell_type": "code",
   "execution_count": 29,
   "metadata": {
    "collapsed": false,
    "scrolled": true
   },
   "outputs": [
    {
     "data": {
      "text/plain": [
       "2"
      ]
     },
     "execution_count": 29,
     "metadata": {},
     "output_type": "execute_result"
    }
   ],
   "source": [
    "#list pop() remove by index and return the value\n",
    "# list remove removes the first matching value, not a specific index\n",
    "# del list\n",
    "\n",
    "list_2=[3.4, 7, 2, 2, 3, 2, [3, 5, 6], 2, 3, 4]\n",
    "list_2.pop(7)\n",
    "\n"
   ]
  },
  {
   "cell_type": "code",
   "execution_count": 31,
   "metadata": {
    "collapsed": false,
    "scrolled": true
   },
   "outputs": [
    {
     "name": "stdout",
     "output_type": "stream",
     "text": [
      "[3.4, 7, 3, 2, [3, 5, 6], 3, 4]\n"
     ]
    }
   ],
   "source": [
    "list_2.remove(2)\n",
    "print list_2"
   ]
  },
  {
   "cell_type": "code",
   "execution_count": 33,
   "metadata": {
    "collapsed": false
   },
   "outputs": [
    {
     "name": "stdout",
     "output_type": "stream",
     "text": [
      "[3, 2, [3, 5, 6], 3, 4]\n"
     ]
    }
   ],
   "source": [
    "del list_2[0]\n",
    "print list_2"
   ]
  },
  {
   "cell_type": "code",
   "execution_count": 42,
   "metadata": {
    "collapsed": false
   },
   "outputs": [
    {
     "name": "stdout",
     "output_type": "stream",
     "text": [
      "[4, 5, 6, 2, 4]\n"
     ]
    }
   ],
   "source": [
    "# list extend() and append()\n",
    "# list insert()\n",
    "\n",
    "list_3=[4,5,6]\n",
    "list_3.extend([2,4])\n",
    "print list_3"
   ]
  },
  {
   "cell_type": "code",
   "execution_count": 43,
   "metadata": {
    "collapsed": false
   },
   "outputs": [
    {
     "name": "stdout",
     "output_type": "stream",
     "text": [
      "[4, 5, 6, 2, 4, [2, 4]]\n"
     ]
    }
   ],
   "source": [
    "list_3.append([2,4])\n",
    "print list_3"
   ]
  },
  {
   "cell_type": "code",
   "execution_count": 45,
   "metadata": {
    "collapsed": false,
    "scrolled": true
   },
   "outputs": [
    {
     "name": "stdout",
     "output_type": "stream",
     "text": [
      "[2.3, 4, 5, 6, 2, 4, [2, 4]]\n"
     ]
    }
   ],
   "source": [
    "list_3.insert(0,2.3) # first arg index second value\n",
    "print list_3"
   ]
  },
  {
   "cell_type": "code",
   "execution_count": 50,
   "metadata": {
    "collapsed": false
   },
   "outputs": [
    {
     "name": "stdout",
     "output_type": "stream",
     "text": [
      "w\n",
      "x\n",
      "c\n",
      "e\n",
      "*\n"
     ]
    }
   ],
   "source": [
    "# string isdigit()\n",
    "string1='w2xc5e*'\n",
    "for i in string1:\n",
    "    if i.isdigit()==False:\n",
    "        print i"
   ]
  },
  {
   "cell_type": "code",
   "execution_count": 4,
   "metadata": {
    "collapsed": true
   },
   "outputs": [],
   "source": [
    "# Anagram problem\n",
    "\n",
    "def anagram(a_string, b_list):\n",
    "    for i in b_list:\n",
    "        if sorted(i)==sorted(a_string):\n",
    "            print i\n",
    "         "
   ]
  },
  {
   "cell_type": "code",
   "execution_count": 8,
   "metadata": {
    "collapsed": false,
    "scrolled": true
   },
   "outputs": [
    {
     "name": "stdout",
     "output_type": "stream",
     "text": [
      "tree\n"
     ]
    }
   ],
   "source": [
    "list4=[\"car\", \"tree\", \"boy\", \"girl\", \"arc\"]\n",
    "word1='eetr'\n",
    "anagram(word1, list4)"
   ]
  },
  {
   "cell_type": "code",
   "execution_count": 26,
   "metadata": {
    "collapsed": true
   },
   "outputs": [],
   "source": [
    "#Permutation \n",
    "def is_Permutation(string1, string2):\n",
    "    if len(string1)!=len(string2):\n",
    "        return \"False\"\n",
    "    \n",
    "    count_str1={}\n",
    "    count_str2={}\n",
    "    \n",
    "    for i in string1:\n",
    "        if i in count_str1.keys():\n",
    "            count_str1[i]+=1\n",
    "        else:\n",
    "            count_str1[i]=1\n",
    "            \n",
    "    for i in string2:\n",
    "        if i in count_str2.keys():\n",
    "            count_str2[i]+=1\n",
    "        else:\n",
    "            count_str2[i]=1\n",
    "    \n",
    "    return count_str1==count_str2\n",
    "    "
   ]
  },
  {
   "cell_type": "code",
   "execution_count": 33,
   "metadata": {
    "collapsed": false
   },
   "outputs": [
    {
     "data": {
      "text/plain": [
       "'False'"
      ]
     },
     "execution_count": 33,
     "metadata": {},
     "output_type": "execute_result"
    }
   ],
   "source": [
    "a='ish'\n",
    "b='shio'\n",
    "is_Permutation(a,b)"
   ]
  },
  {
   "cell_type": "code",
   "execution_count": 30,
   "metadata": {
    "collapsed": true
   },
   "outputs": [],
   "source": [
    "from collections import Counter\n",
    "\n",
    "def is_permutation(a, b):\n",
    "    return len(a) == len(b) and Counter(a) == Counter(b)"
   ]
  },
  {
   "cell_type": "code",
   "execution_count": 34,
   "metadata": {
    "collapsed": false
   },
   "outputs": [
    {
     "data": {
      "text/plain": [
       "False"
      ]
     },
     "execution_count": 34,
     "metadata": {},
     "output_type": "execute_result"
    }
   ],
   "source": [
    "is_permutation(a,b)"
   ]
  }
 ],
 "metadata": {
  "kernelspec": {
   "display_name": "Python 2",
   "language": "python",
   "name": "python2"
  },
  "language_info": {
   "codemirror_mode": {
    "name": "ipython",
    "version": 2
   },
   "file_extension": ".py",
   "mimetype": "text/x-python",
   "name": "python",
   "nbconvert_exporter": "python",
   "pygments_lexer": "ipython2",
   "version": "2.7.10"
  }
 },
 "nbformat": 4,
 "nbformat_minor": 0
}
