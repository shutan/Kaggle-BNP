{
 "cells": [
  {
   "cell_type": "code",
   "execution_count": 1,
   "metadata": {
    "collapsed": true
   },
   "outputs": [],
   "source": [
    "import numpy as np\n",
    "import pandas as pd\n",
    "from sklearn.ensemble import RandomForestRegressor, BaggingRegressor\n",
    "from nltk.stem.snowball import SnowballStemmer\n",
    "from sklearn.metrics import mean_squared_error, make_scorer"
   ]
  },
  {
   "cell_type": "code",
   "execution_count": 2,
   "metadata": {
    "collapsed": true
   },
   "outputs": [],
   "source": [
    "#Loading raw data and do data Exploration\n",
    "df_train = pd.read_csv('train.csv', encoding=\"ISO-8859-1\")\n",
    "df_test = pd.read_csv('test.csv', encoding=\"ISO-8859-1\")\n",
    "attributes = pd.read_csv('attributes.csv')\n",
    "description = pd.read_csv('product_descriptions.csv')"
   ]
  },
  {
   "cell_type": "code",
   "execution_count": 3,
   "metadata": {
    "collapsed": false
   },
   "outputs": [
    {
     "data": {
      "text/html": [
       "<div>\n",
       "<table border=\"1\" class=\"dataframe\">\n",
       "  <thead>\n",
       "    <tr style=\"text-align: right;\">\n",
       "      <th></th>\n",
       "      <th>id</th>\n",
       "      <th>product_uid</th>\n",
       "      <th>product_title</th>\n",
       "      <th>search_term</th>\n",
       "      <th>relevance</th>\n",
       "    </tr>\n",
       "  </thead>\n",
       "  <tbody>\n",
       "    <tr>\n",
       "      <th>0</th>\n",
       "      <td>2</td>\n",
       "      <td>100001</td>\n",
       "      <td>Simpson Strong-Tie 12-Gauge Angle</td>\n",
       "      <td>angle bracket</td>\n",
       "      <td>3.00</td>\n",
       "    </tr>\n",
       "    <tr>\n",
       "      <th>1</th>\n",
       "      <td>3</td>\n",
       "      <td>100001</td>\n",
       "      <td>Simpson Strong-Tie 12-Gauge Angle</td>\n",
       "      <td>l bracket</td>\n",
       "      <td>2.50</td>\n",
       "    </tr>\n",
       "    <tr>\n",
       "      <th>2</th>\n",
       "      <td>9</td>\n",
       "      <td>100002</td>\n",
       "      <td>BEHR Premium Textured DeckOver 1-gal. #SC-141 ...</td>\n",
       "      <td>deck over</td>\n",
       "      <td>3.00</td>\n",
       "    </tr>\n",
       "    <tr>\n",
       "      <th>3</th>\n",
       "      <td>16</td>\n",
       "      <td>100005</td>\n",
       "      <td>Delta Vero 1-Handle Shower Only Faucet Trim Ki...</td>\n",
       "      <td>rain shower head</td>\n",
       "      <td>2.33</td>\n",
       "    </tr>\n",
       "    <tr>\n",
       "      <th>4</th>\n",
       "      <td>17</td>\n",
       "      <td>100005</td>\n",
       "      <td>Delta Vero 1-Handle Shower Only Faucet Trim Ki...</td>\n",
       "      <td>shower only faucet</td>\n",
       "      <td>2.67</td>\n",
       "    </tr>\n",
       "  </tbody>\n",
       "</table>\n",
       "</div>"
      ],
      "text/plain": [
       "   id  product_uid                                      product_title  \\\n",
       "0   2       100001                  Simpson Strong-Tie 12-Gauge Angle   \n",
       "1   3       100001                  Simpson Strong-Tie 12-Gauge Angle   \n",
       "2   9       100002  BEHR Premium Textured DeckOver 1-gal. #SC-141 ...   \n",
       "3  16       100005  Delta Vero 1-Handle Shower Only Faucet Trim Ki...   \n",
       "4  17       100005  Delta Vero 1-Handle Shower Only Faucet Trim Ki...   \n",
       "\n",
       "          search_term  relevance  \n",
       "0       angle bracket       3.00  \n",
       "1           l bracket       2.50  \n",
       "2           deck over       3.00  \n",
       "3    rain shower head       2.33  \n",
       "4  shower only faucet       2.67  "
      ]
     },
     "execution_count": 3,
     "metadata": {},
     "output_type": "execute_result"
    }
   ],
   "source": [
    "#check content\n",
    "df_train.head()"
   ]
  },
  {
   "cell_type": "code",
   "execution_count": 4,
   "metadata": {
    "collapsed": false
   },
   "outputs": [
    {
     "name": "stdout",
     "output_type": "stream",
     "text": [
      "                  id    product_uid     relevance\n",
      "count   74067.000000   74067.000000  74067.000000\n",
      "mean   112385.709223  142331.911553      2.381634\n",
      "std     64016.573650   30770.774864      0.533984\n",
      "min         2.000000  100001.000000      1.000000\n",
      "25%     57163.500000  115128.500000      2.000000\n",
      "50%    113228.000000  137334.000000      2.330000\n",
      "75%    168275.500000  166883.500000      3.000000\n",
      "max    221473.000000  206650.000000      3.000000\n"
     ]
    },
    {
     "data": {
      "text/plain": [
       "MFG Brand Name                          86250\n",
       "Bullet02                                86248\n",
       "Bullet03                                86226\n",
       "Bullet04                                86174\n",
       "Bullet01                                85940\n",
       "Product Width (in.)                     61137\n",
       "Bullet05                                60529\n",
       "Product Height (in.)                    54698\n",
       "Product Depth (in.)                     53652\n",
       "Product Weight (lb.)                    45175\n",
       "Bullet06                                44901\n",
       "Color Family                            41508\n",
       "Bullet07                                34349\n",
       "Material                                31500\n",
       "Color/Finish                            28564\n",
       "Bullet08                                26645\n",
       "Certifications and Listings             24583\n",
       "Bullet09                                20567\n",
       "Assembled Height (in.)                  18299\n",
       "Assembled Width (in.)                   18263\n",
       "Assembled Depth (in.)                   18198\n",
       "Product Length (in.)                    16705\n",
       "Bullet10                                14763\n",
       "Indoor/Outdoor                          12939\n",
       "Bullet11                                11784\n",
       "Commercial / Residential                 9530\n",
       "Bullet12                                 8795\n",
       "ENERGY STAR Certified                    8420\n",
       "Hardware Included                        7462\n",
       "Package Quantity                         6904\n",
       "                                        ...  \n",
       "Chuck Style                                 1\n",
       "HDMI Outputs                                1\n",
       "Number of settings included                 1\n",
       "Spatter shield                              1\n",
       "Number of Component Video Outputs           1\n",
       "Total number of storage compartments        1\n",
       "Number of tacks per strip                   1\n",
       "Duct System                                 1\n",
       "Multi-family                                1\n",
       "Point Size                                  1\n",
       "Number of Seats (max)                       1\n",
       "Tray Material                               1\n",
       "Individual strip diameter (in.)             1\n",
       "Sensor bar                                  1\n",
       "Compatible with a knee kicker               1\n",
       "Safe working load (lb.)                     1\n",
       "Accent mount material                       1\n",
       "Package size (oz.)                          1\n",
       "Number of Coaxial Outputs                   1\n",
       "Solar powered                               1\n",
       "Recreational Vehicle Product Type           1\n",
       "Container/Shelf Material                    1\n",
       "Individual strip length (in.)               1\n",
       "Closure Type                                1\n",
       "Warming Rack                                1\n",
       "Average Locking Speed (ft/sec)              1\n",
       "Convex                                      1\n",
       "Point Type                                  1\n",
       "Grip Style                                  1\n",
       "Removable cover                             1\n",
       "Name: name, dtype: int64"
      ]
     },
     "execution_count": 4,
     "metadata": {},
     "output_type": "execute_result"
    }
   ],
   "source": [
    "print(str(df_train.describe()))\n",
    "df_train.product_uid.value_counts()\n",
    "attributes.name.value_counts()"
   ]
  },
  {
   "cell_type": "code",
   "execution_count": 6,
   "metadata": {
    "collapsed": false,
    "scrolled": true
   },
   "outputs": [
    {
     "data": {
      "text/plain": [
       "3.00    19125\n",
       "2.33    16060\n",
       "2.67    15202\n",
       "2.00    11730\n",
       "1.67     6780\n",
       "1.33     3006\n",
       "1.00     2105\n",
       "2.50       19\n",
       "2.25       11\n",
       "2.75       11\n",
       "1.75        9\n",
       "1.50        5\n",
       "1.25        4\n",
       "Name: relevance, dtype: int64"
      ]
     },
     "execution_count": 6,
     "metadata": {},
     "output_type": "execute_result"
    },
    {
     "data": {
      "image/png": "[encoded data removed]",
      "text/plain": [
       "<matplotlib.figure.Figure at 0x10eea9790>"
      ]
     },
     "metadata": {},
     "output_type": "display_data"
    }
   ],
   "source": [
    "#data visualization\n",
    "# check the label data distribution \n",
    "%matplotlib inline\n",
    "df_train.relevance.hist()\n",
    "df_train.relevance.value_counts()"
   ]
  },
  {
   "cell_type": "code",
   "execution_count": 7,
   "metadata": {
    "collapsed": false
   },
   "outputs": [
    {
     "data": {
      "text/plain": [
       "<matplotlib.axes._subplots.AxesSubplot at 0x119f11c50>"
      ]
     },
     "execution_count": 7,
     "metadata": {},
     "output_type": "execute_result"
    },
    {
     "data": {
      "image/png": "[encoded data removed]",
      "text/plain": [
       "<matplotlib.figure.Figure at 0x10eea9c10>"
      ]
     },
     "metadata": {},
     "output_type": "display_data"
    }
   ],
   "source": [
    "#check feature distribution\n",
    "description.product_description.str.len().hist(bins=30)\n",
    "df_train.product_title.str.len().hist(bins=30)"
   ]
  },
  {
   "cell_type": "code",
   "execution_count": 8,
   "metadata": {
    "collapsed": true
   },
   "outputs": [],
   "source": [
    "#Add a full set,add descriptions to the full set\n",
    "df_train['label'] = 'train'\n",
    "df_test['label'] = 'test'\n",
    "df_all = pd.concat((df_train, df_test), axis=0, ignore_index=True)\n",
    "df_all = pd.merge(df_all, description, how='left', on='product_uid')"
   ]
  },
  {
   "cell_type": "code",
   "execution_count": 9,
   "metadata": {
    "collapsed": true
   },
   "outputs": [],
   "source": [
    "#Text data clearing, stop words or SnowballStemmer, NLP \n",
    "#Remove unreadable or non-sense words\n",
    "stemmer = SnowballStemmer('english')\n",
    "def str_stemmer(s):\n",
    "\treturn \" \".join([stemmer.stem(word) for word in s.lower().split()])\n",
    "\n",
    "def str_common_word(str1, str2):\n",
    "\treturn sum(int(str2.find(word)>=0) for word in str1.split())\n",
    "df_all['search_term'] = df_all['search_term'].map(lambda x:str_stemmer(x))\n",
    "df_all['product_title'] = df_all['product_title'].map(lambda x:str_stemmer(x))\n",
    "df_all['product_description'] = df_all['product_description'].map(lambda x:str_stemmer(x))"
   ]
  },
  {
   "cell_type": "code",
   "execution_count": 10,
   "metadata": {
    "collapsed": true
   },
   "outputs": [],
   "source": [
    "#create new features using current feature\n",
    "df_all['len_of_query'] = df_all['search_term'].map(lambda x:len(x.split())).astype(np.int64)\n",
    "df_all['product_info'] = df_all['search_term']+\"\\t\"+df_all['product_title']+\"\\t\"+df_all['product_description']\n",
    "df_all['word_in_title'] = df_all['product_info'].map(lambda x:str_common_word(x.split('\\t')[0],x.split('\\t')[1]))\n",
    "df_all['word_in_description'] = df_all['product_info'].map(lambda x:str_common_word(x.split('\\t')[0],x.split('\\t')[2]))"
   ]
  },
  {
   "cell_type": "code",
   "execution_count": 11,
   "metadata": {
    "collapsed": true
   },
   "outputs": [],
   "source": [
    "# drop old features and set final traning dataset, test_dataset\n",
    "df_all = df_all.drop(['search_term','product_title','product_description','product_info'],axis=1)\n",
    "\n",
    "df_train = df_all[df_all.label == 'train']\n",
    "df_test = df_all[df_all.label == 'test']\n",
    "id_test = df_test['id']\n",
    "y_train = df_train['relevance'].values\n",
    "X_train = df_train.drop(['id','relevance', 'label'],axis=1).values\n",
    "X_test = df_test.drop(['id','relevance', 'label'],axis=1).values"
   ]
  },
  {
   "cell_type": "code",
   "execution_count": 12,
   "metadata": {
    "collapsed": true
   },
   "outputs": [],
   "source": [
    "#Model fitting and get the output\n",
    "rf = RandomForestRegressor(n_estimators=15, max_depth=6, random_state=0)\n",
    "clf = BaggingRegressor(rf, n_estimators=45, max_samples=0.1, random_state=25)\n",
    "clf.fit(X_train, y_train)\n",
    "y_pred = clf.predict(X_test)"
   ]
  },
  {
   "cell_type": "code",
   "execution_count": 13,
   "metadata": {
    "collapsed": true
   },
   "outputs": [],
   "source": [
    "# Model Evalution,  use RMSE (required by the holder) to check the performance \n",
    "def fmean_squared_error(ground_truth, predictions):\n",
    "    rmse = mean_squared_error(ground_truth, predictions)**0.5\n",
    "    return rmse\n",
    "# 1st Submission \n",
    "pd.DataFrame({\"id\": id_test, \"relevance\": y_pred}).to_csv('submission.csv',index=False)"
   ]
  },
  {
   "cell_type": "code",
   "execution_count": 16,
   "metadata": {
    "collapsed": false
   },
   "outputs": [],
   "source": [
    "#Above is simple single model \n",
    "#Improve Performance, we could do more feature engineering for those text data \n",
    "#top15 search term co-occurrence matrix\n",
    "\n"
   ]
  }
 ],
 "metadata": {
  "kernelspec": {
   "display_name": "Python 2",
   "language": "python",
   "name": "python2"
  },
  "language_info": {
   "codemirror_mode": {
    "name": "ipython",
    "version": 2
   },
   "file_extension": ".py",
   "mimetype": "text/x-python",
   "name": "python",
   "nbconvert_exporter": "python",
   "pygments_lexer": "ipython2",
   "version": "2.7.10"
  }
 },
 "nbformat": 4,
 "nbformat_minor": 0
}
