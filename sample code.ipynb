{
 "cells": [
  {
   "cell_type": "code",
   "execution_count": 1,
   "metadata": {
    "collapsed": true
   },
   "outputs": [],
   "source": [
    "# same character problem\n",
    "def sameroot(root):\n",
    "    for i in words:\n",
    "        if ''.join(sorted(root))==''.join(sorted(i)):\n",
    "            print i\n",
    "        "
   ]
  },
  {
   "cell_type": "code",
   "execution_count": 2,
   "metadata": {
    "collapsed": false,
    "scrolled": true
   },
   "outputs": [
    {
     "name": "stdout",
     "output_type": "stream",
     "text": [
      "keen\n",
      "enek\n",
      "eekn\n"
     ]
    }
   ],
   "source": [
    "words=['keen','enek','en', 'eekn','neak']\n",
    "sameroot('keen')"
   ]
  },
  {
   "cell_type": "code",
   "execution_count": 3,
   "metadata": {
    "collapsed": false
   },
   "outputs": [
    {
     "name": "stdout",
     "output_type": "stream",
     "text": [
      "[{'id': 1, 'children': [{'id': 2}, {'id': 3, 'children': [{'id': 4}, {'id': 5}, {'id': 6}]}]}, {'id': 7, 'children': [{'id': 8}, {'id': 9}]}]\n"
     ]
    }
   ],
   "source": [
    "# tree building with list\n",
    "a = [(1, 1), (2, 1), (3, 1), (4, 3), (5, 3), (6, 3), (7, 7), (8, 7), (9, 7)]\n",
    "\n",
    "# pass 1: create nodes dictionary\n",
    "nodes = {}\n",
    "for i in a:\n",
    "    id, parent_id = i\n",
    "    nodes[id] = { 'id': id }\n",
    "\n",
    "# pass 2: create trees and parent-child relations\n",
    "forest = []\n",
    "for i in a:\n",
    "    id, parent_id = i\n",
    "    node = nodes[id]\n",
    "\n",
    "    # either make the node a new tree or link it to its parent\n",
    "    if id == parent_id:\n",
    "        # start a new tree in the forest\n",
    "        forest.append(node)\n",
    "    else:\n",
    "        # add new_node as child to parent\n",
    "        parent = nodes[parent_id]\n",
    "        if not 'children' in parent:\n",
    "            # ensure parent has a 'children' field\n",
    "            parent['children'] = []\n",
    "        children = parent['children']\n",
    "        children.append(node)\n",
    "\n",
    "print forest"
   ]
  },
  {
   "cell_type": "code",
   "execution_count": 4,
   "metadata": {
    "collapsed": true
   },
   "outputs": [],
   "source": [
    "# merge two binary trees\n",
    "def mergeTrees(self, t1, t2):\n",
    "    if not t1 and not t2: return None\n",
    "    ans = TreeNode((t1.val if t1 else 0) + (t2.val if t2 else 0))\n",
    "    ans.left = self.mergeTrees(t1 and t1.left, t2 and t2.left)\n",
    "    ans.right = self.mergeTrees(t1 and t1.right, t2 and t2.right)\n",
    "    return ans"
   ]
  },
  {
   "cell_type": "code",
   "execution_count": 5,
   "metadata": {
    "collapsed": true
   },
   "outputs": [],
   "source": [
    "#humming distance \n",
    "class solution:\n",
    "    def __init__(self, num1,num2):\n",
    "        self.num1=num1\n",
    "        self.num2=num2\n",
    "        \n",
    "    def hummingCount(self):\n",
    "        z = self.num1 ^ self.num2\n",
    "        count = 0\n",
    "        while z > 0:\n",
    "            count += z & 1\n",
    "            z >>= 1\n",
    "            \n",
    "        return count\n",
    "        \n",
    "   "
   ]
  },
  {
   "cell_type": "code",
   "execution_count": 6,
   "metadata": {
    "collapsed": false
   },
   "outputs": [
    {
     "data": {
      "text/plain": [
       "2"
      ]
     },
     "execution_count": 6,
     "metadata": {},
     "output_type": "execute_result"
    }
   ],
   "source": [
    "test1=solution(1,4)\n",
    "test1.hummingCount()"
   ]
  }
 ],
 "metadata": {
  "kernelspec": {
   "display_name": "Python 2",
   "language": "python",
   "name": "python2"
  },
  "language_info": {
   "codemirror_mode": {
    "name": "ipython",
    "version": 2
   },
   "file_extension": ".py",
   "mimetype": "text/x-python",
   "name": "python",
   "nbconvert_exporter": "python",
   "pygments_lexer": "ipython2",
   "version": "2.7.10"
  }
 },
 "nbformat": 4,
 "nbformat_minor": 0
}
