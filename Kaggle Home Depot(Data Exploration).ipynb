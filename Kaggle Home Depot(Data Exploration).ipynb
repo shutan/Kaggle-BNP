{
 "cells": [
  {
   "cell_type": "code",
   "execution_count": 1,
   "metadata": {
    "collapsed": true
   },
   "outputs": [],
   "source": [
    "import pandas as pd\n",
    "import numpy as np\n",
    "import matplotlib.pyplot as plt\n",
    "%matplotlib inline"
   ]
  },
  {
   "cell_type": "code",
   "execution_count": 2,
   "metadata": {
    "collapsed": false
   },
   "outputs": [
    {
     "name": "stdout",
     "output_type": "stream",
     "text": [
      "attributes.csv              test.csv\r\n",
      "product_descriptions.csv    train.csv\r\n",
      "relevance_instructions.docx week1.ipynb\r\n",
      "sample_submission.csv\r\n"
     ]
    }
   ],
   "source": [
    "!ls"
   ]
  },
  {
   "cell_type": "code",
   "execution_count": 3,
   "metadata": {
    "collapsed": false
   },
   "outputs": [
    {
     "name": "stdout",
     "output_type": "stream",
     "text": [
      "\"id\",\"product_uid\",\"product_title\",\"search_term\",\"relevance\"\r\n",
      "2,100001,\"Simpson Strong-Tie 12-Gauge Angle\",\"angle bracket\",3\r\n",
      "3,100001,\"Simpson Strong-Tie 12-Gauge Angle\",\"l bracket\",2.5\r\n",
      "9,100002,\"BEHR Premium Textured DeckOver 1-gal. #SC-141 Tugboat Wood and Concrete Coating\",\"deck over\",3\r\n",
      "16,100005,\"Delta Vero 1-Handle Shower Only Faucet Trim Kit in Chrome (Valve Not Included)\",\"rain shower head\",2.33\r\n"
     ]
    }
   ],
   "source": [
    "!head -5 train.csv"
   ]
  },
  {
   "cell_type": "code",
   "execution_count": 4,
   "metadata": {
    "collapsed": false
   },
   "outputs": [
    {
     "name": "stdout",
     "output_type": "stream",
     "text": [
      "\"id\",\"product_uid\",\"product_title\",\"search_term\"\r\n",
      "1,100001,\"Simpson Strong-Tie 12-Gauge Angle\",\"90 degree bracket\"\r\n",
      "4,100001,\"Simpson Strong-Tie 12-Gauge Angle\",\"metal l brackets\"\r\n",
      "5,100001,\"Simpson Strong-Tie 12-Gauge Angle\",\"simpson sku able\"\r\n",
      "6,100001,\"Simpson Strong-Tie 12-Gauge Angle\",\"simpson strong  ties\"\r\n"
     ]
    }
   ],
   "source": [
    "!head -5 test.csv"
   ]
  },
  {
   "cell_type": "code",
   "execution_count": 5,
   "metadata": {
    "collapsed": false,
    "scrolled": true
   },
   "outputs": [
    {
     "name": "stdout",
     "output_type": "stream",
     "text": [
      "\"product_uid\",\"product_description\"\r\n",
      "100001,\"Not only do angles make joints stronger, they also provide more consistent, straight corners. Simpson Strong-Tie offers a wide variety of angles in various sizes and thicknesses to handle light-duty jobs or projects where a structural connection is needed. Some can be bent (skewed) to match the project. For outdoor projects or those where moisture is present, use our ZMAX zinc-coated connectors, which provide extra resistance against corrosion (look for a \"\"Z\"\" at the end of the model number).Versatile connector for various 90 connections and home repair projectsStronger than angled nailing or screw fastening aloneHelp ensure joints are consistently straight and strongDimensions: 3 in. x 3 in. x 1-1/2 in.Made from 12-Gauge steelGalvanized for extra corrosion resistanceInstall with 10d common nails or #9 x 1-1/2 in. Strong-Drive SD screws\"\r\n",
      "100002,\"BEHR Premium Textured DECKOVER is an innovative solid color coating. It will bring your old, weathered wood or concrete back to life. The advanced 100% acrylic resin formula creates a durable coating for your tired and worn out deck, rejuvenating to a whole new look.  For the best results, be sure to properly prepare the surface using other applicable BEHR products displayed above.California residents: see&nbsp;Proposition 65 informationRevives wood and composite decks, railings, porches and boat docks, also great for concrete pool decks, patios and sidewalks100% acrylic solid color coatingResists cracking and peeling and conceals splinters and cracks up to 1/4 in.Provides a durable, mildew resistant finishCovers up to 75 sq. ft. in 2 coats per gallonCreates a textured, slip-resistant finishFor best results, prepare with the appropriate BEHR product for your wood or concrete surfaceActual paint colors may vary from on-screen and printer representationsColors available to be tinted in most storesOnline Price includes Paint Care fee in the following states: CA, CO, CT, ME, MN, OR, RI, VT\"\r\n",
      "100003,\"Classic architecture meets contemporary design in the Ensemble Curve series, made of solid Vikrell material, blending sleek, clean lines with gentle curves. Corner shelving is perfect for storing bath accessories. Modular design allows it to be moved around corners and through doorways with ease. Curve wall with a smooth, contemporary look, featuring integrated storage shelves.Slightly narrower for tighter spacesDesigned with an 18 in. apronDurable high-gloss finish provides a smooth, shiny surface that is easy to cleanConforms to ANSI Z124.1.2 and CSA B45.1 national consensus standardsCurve wall with a smooth, contemporary look, featuring integrated storage shelves\"\r\n",
      "100004,\"The Grape Solar 265-Watt Polycrystalline PV Solar Panel bonus pack bundles 4 Grape Solar 265-Watt solar panels for extra savings. The Grape Solar 265-Watt Polycrystalline PV Solar Panel uses high efficiency solar cells (approximately 19%) made from quality silicon material for high module conversion efficiency, long term output stability, and reliability. Virtually maintenance free. High transmittance, low iron tempered glass for durability and enhanced impact resistance.Positive power tolerance (0 to +5-Watt)Anti-reflective and anti-soiling surface reduces power loss from dirt and dustOutstanding performance in low-light irradiances environmentsCertified to withstand high wind and snow loads100% electroluminescence inspection ensures modules are defect freePositive and negative leads quipped with MC4 connectors\"\r\n"
     ]
    }
   ],
   "source": [
    "!head -5 product_descriptions.csv"
   ]
  },
  {
   "cell_type": "code",
   "execution_count": 2,
   "metadata": {
    "collapsed": false
   },
   "outputs": [
    {
     "name": "stdout",
     "output_type": "stream",
     "text": [
      "370335\n"
     ]
    },
    {
     "data": {
      "text/html": [
       "<div>\n",
       "<table border=\"1\" class=\"dataframe\">\n",
       "  <thead>\n",
       "    <tr style=\"text-align: right;\">\n",
       "      <th></th>\n",
       "      <th>id</th>\n",
       "      <th>product_uid</th>\n",
       "      <th>product_title</th>\n",
       "      <th>search_term</th>\n",
       "      <th>relevance</th>\n",
       "    </tr>\n",
       "  </thead>\n",
       "  <tbody>\n",
       "    <tr>\n",
       "      <th>0</th>\n",
       "      <td>2</td>\n",
       "      <td>100001</td>\n",
       "      <td>Simpson Strong-Tie 12-Gauge Angle</td>\n",
       "      <td>angle bracket</td>\n",
       "      <td>3.00</td>\n",
       "    </tr>\n",
       "    <tr>\n",
       "      <th>1</th>\n",
       "      <td>3</td>\n",
       "      <td>100001</td>\n",
       "      <td>Simpson Strong-Tie 12-Gauge Angle</td>\n",
       "      <td>l bracket</td>\n",
       "      <td>2.50</td>\n",
       "    </tr>\n",
       "    <tr>\n",
       "      <th>2</th>\n",
       "      <td>9</td>\n",
       "      <td>100002</td>\n",
       "      <td>BEHR Premium Textured DeckOver 1-gal. #SC-141 ...</td>\n",
       "      <td>deck over</td>\n",
       "      <td>3.00</td>\n",
       "    </tr>\n",
       "    <tr>\n",
       "      <th>3</th>\n",
       "      <td>16</td>\n",
       "      <td>100005</td>\n",
       "      <td>Delta Vero 1-Handle Shower Only Faucet Trim Ki...</td>\n",
       "      <td>rain shower head</td>\n",
       "      <td>2.33</td>\n",
       "    </tr>\n",
       "    <tr>\n",
       "      <th>4</th>\n",
       "      <td>17</td>\n",
       "      <td>100005</td>\n",
       "      <td>Delta Vero 1-Handle Shower Only Faucet Trim Ki...</td>\n",
       "      <td>shower only faucet</td>\n",
       "      <td>2.67</td>\n",
       "    </tr>\n",
       "  </tbody>\n",
       "</table>\n",
       "</div>"
      ],
      "text/plain": [
       "   id  product_uid                                      product_title  \\\n",
       "0   2       100001                  Simpson Strong-Tie 12-Gauge Angle   \n",
       "1   3       100001                  Simpson Strong-Tie 12-Gauge Angle   \n",
       "2   9       100002  BEHR Premium Textured DeckOver 1-gal. #SC-141 ...   \n",
       "3  16       100005  Delta Vero 1-Handle Shower Only Faucet Trim Ki...   \n",
       "4  17       100005  Delta Vero 1-Handle Shower Only Faucet Trim Ki...   \n",
       "\n",
       "          search_term  relevance  \n",
       "0       angle bracket       3.00  \n",
       "1           l bracket       2.50  \n",
       "2           deck over       3.00  \n",
       "3    rain shower head       2.33  \n",
       "4  shower only faucet       2.67  "
      ]
     },
     "execution_count": 2,
     "metadata": {},
     "output_type": "execute_result"
    }
   ],
   "source": [
    "traindf=pd.read_csv('train.csv')\n",
    "print traindf.size\n",
    "traindf.head(5)\n"
   ]
  },
  {
   "cell_type": "code",
   "execution_count": 3,
   "metadata": {
    "collapsed": false
   },
   "outputs": [
    {
     "name": "stdout",
     "output_type": "stream",
     "text": [
      "666772\n"
     ]
    },
    {
     "data": {
      "text/html": [
       "<div>\n",
       "<table border=\"1\" class=\"dataframe\">\n",
       "  <thead>\n",
       "    <tr style=\"text-align: right;\">\n",
       "      <th></th>\n",
       "      <th>id</th>\n",
       "      <th>product_uid</th>\n",
       "      <th>product_title</th>\n",
       "      <th>search_term</th>\n",
       "    </tr>\n",
       "  </thead>\n",
       "  <tbody>\n",
       "    <tr>\n",
       "      <th>0</th>\n",
       "      <td>1</td>\n",
       "      <td>100001</td>\n",
       "      <td>Simpson Strong-Tie 12-Gauge Angle</td>\n",
       "      <td>90 degree bracket</td>\n",
       "    </tr>\n",
       "    <tr>\n",
       "      <th>1</th>\n",
       "      <td>4</td>\n",
       "      <td>100001</td>\n",
       "      <td>Simpson Strong-Tie 12-Gauge Angle</td>\n",
       "      <td>metal l brackets</td>\n",
       "    </tr>\n",
       "    <tr>\n",
       "      <th>2</th>\n",
       "      <td>5</td>\n",
       "      <td>100001</td>\n",
       "      <td>Simpson Strong-Tie 12-Gauge Angle</td>\n",
       "      <td>simpson sku able</td>\n",
       "    </tr>\n",
       "    <tr>\n",
       "      <th>3</th>\n",
       "      <td>6</td>\n",
       "      <td>100001</td>\n",
       "      <td>Simpson Strong-Tie 12-Gauge Angle</td>\n",
       "      <td>simpson strong  ties</td>\n",
       "    </tr>\n",
       "    <tr>\n",
       "      <th>4</th>\n",
       "      <td>7</td>\n",
       "      <td>100001</td>\n",
       "      <td>Simpson Strong-Tie 12-Gauge Angle</td>\n",
       "      <td>simpson strong tie hcc668</td>\n",
       "    </tr>\n",
       "  </tbody>\n",
       "</table>\n",
       "</div>"
      ],
      "text/plain": [
       "   id  product_uid                      product_title  \\\n",
       "0   1       100001  Simpson Strong-Tie 12-Gauge Angle   \n",
       "1   4       100001  Simpson Strong-Tie 12-Gauge Angle   \n",
       "2   5       100001  Simpson Strong-Tie 12-Gauge Angle   \n",
       "3   6       100001  Simpson Strong-Tie 12-Gauge Angle   \n",
       "4   7       100001  Simpson Strong-Tie 12-Gauge Angle   \n",
       "\n",
       "                 search_term  \n",
       "0          90 degree bracket  \n",
       "1           metal l brackets  \n",
       "2           simpson sku able  \n",
       "3       simpson strong  ties  \n",
       "4  simpson strong tie hcc668  "
      ]
     },
     "execution_count": 3,
     "metadata": {},
     "output_type": "execute_result"
    }
   ],
   "source": [
    "testdf=pd.read_csv('test.csv')\n",
    "print testdf.size\n",
    "testdf.head(5)"
   ]
  },
  {
   "cell_type": "code",
   "execution_count": 4,
   "metadata": {
    "collapsed": false,
    "scrolled": true
   },
   "outputs": [
    {
     "name": "stdout",
     "output_type": "stream",
     "text": [
      "248856\n"
     ]
    },
    {
     "data": {
      "text/html": [
       "<div>\n",
       "<table border=\"1\" class=\"dataframe\">\n",
       "  <thead>\n",
       "    <tr style=\"text-align: right;\">\n",
       "      <th></th>\n",
       "      <th>product_uid</th>\n",
       "      <th>product_description</th>\n",
       "    </tr>\n",
       "  </thead>\n",
       "  <tbody>\n",
       "    <tr>\n",
       "      <th>0</th>\n",
       "      <td>100001</td>\n",
       "      <td>Not only do angles make joints stronger, they ...</td>\n",
       "    </tr>\n",
       "    <tr>\n",
       "      <th>1</th>\n",
       "      <td>100002</td>\n",
       "      <td>BEHR Premium Textured DECKOVER is an innovativ...</td>\n",
       "    </tr>\n",
       "    <tr>\n",
       "      <th>2</th>\n",
       "      <td>100003</td>\n",
       "      <td>Classic architecture meets contemporary design...</td>\n",
       "    </tr>\n",
       "  </tbody>\n",
       "</table>\n",
       "</div>"
      ],
      "text/plain": [
       "   product_uid                                product_description\n",
       "0       100001  Not only do angles make joints stronger, they ...\n",
       "1       100002  BEHR Premium Textured DECKOVER is an innovativ...\n",
       "2       100003  Classic architecture meets contemporary design..."
      ]
     },
     "execution_count": 4,
     "metadata": {},
     "output_type": "execute_result"
    }
   ],
   "source": [
    "prod_desc=pd.read_csv('product_descriptions.csv')\n",
    "print prod_desc.size\n",
    "prod_desc.head(3)"
   ]
  },
  {
   "cell_type": "code",
   "execution_count": 5,
   "metadata": {
    "collapsed": false
   },
   "outputs": [
    {
     "name": "stdout",
     "output_type": "stream",
     "text": [
      "370335\n"
     ]
    },
    {
     "data": {
      "text/html": [
       "<div>\n",
       "<table border=\"1\" class=\"dataframe\">\n",
       "  <thead>\n",
       "    <tr style=\"text-align: right;\">\n",
       "      <th></th>\n",
       "      <th>product_uid</th>\n",
       "      <th>product_title</th>\n",
       "      <th>search_term</th>\n",
       "      <th>product_description</th>\n",
       "      <th>relevance</th>\n",
       "    </tr>\n",
       "  </thead>\n",
       "  <tbody>\n",
       "    <tr>\n",
       "      <th>0</th>\n",
       "      <td>100001</td>\n",
       "      <td>Simpson Strong-Tie 12-Gauge Angle</td>\n",
       "      <td>angle bracket</td>\n",
       "      <td>Not only do angles make joints stronger, they ...</td>\n",
       "      <td>3.00</td>\n",
       "    </tr>\n",
       "    <tr>\n",
       "      <th>1</th>\n",
       "      <td>100001</td>\n",
       "      <td>Simpson Strong-Tie 12-Gauge Angle</td>\n",
       "      <td>l bracket</td>\n",
       "      <td>Not only do angles make joints stronger, they ...</td>\n",
       "      <td>2.50</td>\n",
       "    </tr>\n",
       "    <tr>\n",
       "      <th>2</th>\n",
       "      <td>100002</td>\n",
       "      <td>BEHR Premium Textured DeckOver 1-gal. #SC-141 ...</td>\n",
       "      <td>deck over</td>\n",
       "      <td>BEHR Premium Textured DECKOVER is an innovativ...</td>\n",
       "      <td>3.00</td>\n",
       "    </tr>\n",
       "    <tr>\n",
       "      <th>3</th>\n",
       "      <td>100005</td>\n",
       "      <td>Delta Vero 1-Handle Shower Only Faucet Trim Ki...</td>\n",
       "      <td>rain shower head</td>\n",
       "      <td>Update your bathroom with the Delta Vero Singl...</td>\n",
       "      <td>2.33</td>\n",
       "    </tr>\n",
       "    <tr>\n",
       "      <th>4</th>\n",
       "      <td>100005</td>\n",
       "      <td>Delta Vero 1-Handle Shower Only Faucet Trim Ki...</td>\n",
       "      <td>shower only faucet</td>\n",
       "      <td>Update your bathroom with the Delta Vero Singl...</td>\n",
       "      <td>2.67</td>\n",
       "    </tr>\n",
       "  </tbody>\n",
       "</table>\n",
       "</div>"
      ],
      "text/plain": [
       "   product_uid                                      product_title  \\\n",
       "0       100001                  Simpson Strong-Tie 12-Gauge Angle   \n",
       "1       100001                  Simpson Strong-Tie 12-Gauge Angle   \n",
       "2       100002  BEHR Premium Textured DeckOver 1-gal. #SC-141 ...   \n",
       "3       100005  Delta Vero 1-Handle Shower Only Faucet Trim Ki...   \n",
       "4       100005  Delta Vero 1-Handle Shower Only Faucet Trim Ki...   \n",
       "\n",
       "          search_term                                product_description  \\\n",
       "0       angle bracket  Not only do angles make joints stronger, they ...   \n",
       "1           l bracket  Not only do angles make joints stronger, they ...   \n",
       "2           deck over  BEHR Premium Textured DECKOVER is an innovativ...   \n",
       "3    rain shower head  Update your bathroom with the Delta Vero Singl...   \n",
       "4  shower only faucet  Update your bathroom with the Delta Vero Singl...   \n",
       "\n",
       "   relevance  \n",
       "0       3.00  \n",
       "1       2.50  \n",
       "2       3.00  \n",
       "3       2.33  \n",
       "4       2.67  "
      ]
     },
     "execution_count": 5,
     "metadata": {},
     "output_type": "execute_result"
    }
   ],
   "source": [
    "#  step1，join train data and product description\n",
    "train_prod=pd.merge(traindf,prod_desc,on='product_uid')\n",
    "train_prod=train_prod[['product_uid','product_title','search_term','product_description','relevance']]\n",
    "print train_prod.size\n",
    "train_prod.head(5)"
   ]
  },
  {
   "cell_type": "code",
   "execution_count": 6,
   "metadata": {
    "collapsed": false,
    "scrolled": false
   },
   "outputs": [
    {
     "name": "stdout",
     "output_type": "stream",
     "text": [
      "666772\n"
     ]
    },
    {
     "data": {
      "text/html": [
       "<div>\n",
       "<table border=\"1\" class=\"dataframe\">\n",
       "  <thead>\n",
       "    <tr style=\"text-align: right;\">\n",
       "      <th></th>\n",
       "      <th>product_uid</th>\n",
       "      <th>product_title</th>\n",
       "      <th>search_term</th>\n",
       "      <th>product_description</th>\n",
       "    </tr>\n",
       "  </thead>\n",
       "  <tbody>\n",
       "    <tr>\n",
       "      <th>0</th>\n",
       "      <td>100001</td>\n",
       "      <td>Simpson Strong-Tie 12-Gauge Angle</td>\n",
       "      <td>90 degree bracket</td>\n",
       "      <td>Not only do angles make joints stronger, they ...</td>\n",
       "    </tr>\n",
       "    <tr>\n",
       "      <th>1</th>\n",
       "      <td>100001</td>\n",
       "      <td>Simpson Strong-Tie 12-Gauge Angle</td>\n",
       "      <td>metal l brackets</td>\n",
       "      <td>Not only do angles make joints stronger, they ...</td>\n",
       "    </tr>\n",
       "    <tr>\n",
       "      <th>2</th>\n",
       "      <td>100001</td>\n",
       "      <td>Simpson Strong-Tie 12-Gauge Angle</td>\n",
       "      <td>simpson sku able</td>\n",
       "      <td>Not only do angles make joints stronger, they ...</td>\n",
       "    </tr>\n",
       "    <tr>\n",
       "      <th>3</th>\n",
       "      <td>100001</td>\n",
       "      <td>Simpson Strong-Tie 12-Gauge Angle</td>\n",
       "      <td>simpson strong  ties</td>\n",
       "      <td>Not only do angles make joints stronger, they ...</td>\n",
       "    </tr>\n",
       "    <tr>\n",
       "      <th>4</th>\n",
       "      <td>100001</td>\n",
       "      <td>Simpson Strong-Tie 12-Gauge Angle</td>\n",
       "      <td>simpson strong tie hcc668</td>\n",
       "      <td>Not only do angles make joints stronger, they ...</td>\n",
       "    </tr>\n",
       "    <tr>\n",
       "      <th>5</th>\n",
       "      <td>100001</td>\n",
       "      <td>Simpson Strong-Tie 12-Gauge Angle</td>\n",
       "      <td>wood connectors</td>\n",
       "      <td>Not only do angles make joints stronger, they ...</td>\n",
       "    </tr>\n",
       "    <tr>\n",
       "      <th>6</th>\n",
       "      <td>100003</td>\n",
       "      <td>STERLING Ensemble 33-1/4 in. x 60 in. x 75-1/4...</td>\n",
       "      <td>bath and shower kit</td>\n",
       "      <td>Classic architecture meets contemporary design...</td>\n",
       "    </tr>\n",
       "    <tr>\n",
       "      <th>7</th>\n",
       "      <td>100003</td>\n",
       "      <td>STERLING Ensemble 33-1/4 in. x 60 in. x 75-1/4...</td>\n",
       "      <td>bath drain kit</td>\n",
       "      <td>Classic architecture meets contemporary design...</td>\n",
       "    </tr>\n",
       "    <tr>\n",
       "      <th>8</th>\n",
       "      <td>100003</td>\n",
       "      <td>STERLING Ensemble 33-1/4 in. x 60 in. x 75-1/4...</td>\n",
       "      <td>one piece tub shower</td>\n",
       "      <td>Classic architecture meets contemporary design...</td>\n",
       "    </tr>\n",
       "    <tr>\n",
       "      <th>9</th>\n",
       "      <td>100004</td>\n",
       "      <td>Grape Solar 265-Watt Polycrystalline Solar Pan...</td>\n",
       "      <td>solar panel</td>\n",
       "      <td>The Grape Solar 265-Watt Polycrystalline PV So...</td>\n",
       "    </tr>\n",
       "    <tr>\n",
       "      <th>10</th>\n",
       "      <td>100005</td>\n",
       "      <td>Delta Vero 1-Handle Shower Only Faucet Trim Ki...</td>\n",
       "      <td>1 handle shower delta trim kit</td>\n",
       "      <td>Update your bathroom with the Delta Vero Singl...</td>\n",
       "    </tr>\n",
       "    <tr>\n",
       "      <th>11</th>\n",
       "      <td>100005</td>\n",
       "      <td>Delta Vero 1-Handle Shower Only Faucet Trim Ki...</td>\n",
       "      <td>delta ashland shower faucet</td>\n",
       "      <td>Update your bathroom with the Delta Vero Singl...</td>\n",
       "    </tr>\n",
       "    <tr>\n",
       "      <th>12</th>\n",
       "      <td>100006</td>\n",
       "      <td>Whirlpool 1.9 cu. ft. Over the Range Convectio...</td>\n",
       "      <td>cooking stove</td>\n",
       "      <td>Achieving delicious results is almost effortle...</td>\n",
       "    </tr>\n",
       "    <tr>\n",
       "      <th>13</th>\n",
       "      <td>100006</td>\n",
       "      <td>Whirlpool 1.9 cu. ft. Over the Range Convectio...</td>\n",
       "      <td>microwaves over range</td>\n",
       "      <td>Achieving delicious results is almost effortle...</td>\n",
       "    </tr>\n",
       "    <tr>\n",
       "      <th>14</th>\n",
       "      <td>100008</td>\n",
       "      <td>Teks #10 1-1/2 in. External Hex Flange Hex-Hea...</td>\n",
       "      <td>self tapping screws</td>\n",
       "      <td>The Teks #10 x 1-1/2 in. Zinc-Plated Steel Was...</td>\n",
       "    </tr>\n",
       "  </tbody>\n",
       "</table>\n",
       "</div>"
      ],
      "text/plain": [
       "    product_uid                                      product_title  \\\n",
       "0        100001                  Simpson Strong-Tie 12-Gauge Angle   \n",
       "1        100001                  Simpson Strong-Tie 12-Gauge Angle   \n",
       "2        100001                  Simpson Strong-Tie 12-Gauge Angle   \n",
       "3        100001                  Simpson Strong-Tie 12-Gauge Angle   \n",
       "4        100001                  Simpson Strong-Tie 12-Gauge Angle   \n",
       "5        100001                  Simpson Strong-Tie 12-Gauge Angle   \n",
       "6        100003  STERLING Ensemble 33-1/4 in. x 60 in. x 75-1/4...   \n",
       "7        100003  STERLING Ensemble 33-1/4 in. x 60 in. x 75-1/4...   \n",
       "8        100003  STERLING Ensemble 33-1/4 in. x 60 in. x 75-1/4...   \n",
       "9        100004  Grape Solar 265-Watt Polycrystalline Solar Pan...   \n",
       "10       100005  Delta Vero 1-Handle Shower Only Faucet Trim Ki...   \n",
       "11       100005  Delta Vero 1-Handle Shower Only Faucet Trim Ki...   \n",
       "12       100006  Whirlpool 1.9 cu. ft. Over the Range Convectio...   \n",
       "13       100006  Whirlpool 1.9 cu. ft. Over the Range Convectio...   \n",
       "14       100008  Teks #10 1-1/2 in. External Hex Flange Hex-Hea...   \n",
       "\n",
       "                       search_term  \\\n",
       "0                90 degree bracket   \n",
       "1                 metal l brackets   \n",
       "2                 simpson sku able   \n",
       "3             simpson strong  ties   \n",
       "4        simpson strong tie hcc668   \n",
       "5                  wood connectors   \n",
       "6              bath and shower kit   \n",
       "7                   bath drain kit   \n",
       "8             one piece tub shower   \n",
       "9                      solar panel   \n",
       "10  1 handle shower delta trim kit   \n",
       "11     delta ashland shower faucet   \n",
       "12                   cooking stove   \n",
       "13           microwaves over range   \n",
       "14             self tapping screws   \n",
       "\n",
       "                                  product_description  \n",
       "0   Not only do angles make joints stronger, they ...  \n",
       "1   Not only do angles make joints stronger, they ...  \n",
       "2   Not only do angles make joints stronger, they ...  \n",
       "3   Not only do angles make joints stronger, they ...  \n",
       "4   Not only do angles make joints stronger, they ...  \n",
       "5   Not only do angles make joints stronger, they ...  \n",
       "6   Classic architecture meets contemporary design...  \n",
       "7   Classic architecture meets contemporary design...  \n",
       "8   Classic architecture meets contemporary design...  \n",
       "9   The Grape Solar 265-Watt Polycrystalline PV So...  \n",
       "10  Update your bathroom with the Delta Vero Singl...  \n",
       "11  Update your bathroom with the Delta Vero Singl...  \n",
       "12  Achieving delicious results is almost effortle...  \n",
       "13  Achieving delicious results is almost effortle...  \n",
       "14  The Teks #10 x 1-1/2 in. Zinc-Plated Steel Was...  "
      ]
     },
     "execution_count": 6,
     "metadata": {},
     "output_type": "execute_result"
    }
   ],
   "source": [
    "# join test data and product description\n",
    "test_prod=pd.merge(testdf,prod_desc, on='product_uid')\n",
    "test_prod=test_prod[['product_uid','product_title','search_term','product_description']]\n",
    "print test_prod.size\n",
    "test_prod.head(15)"
   ]
  },
  {
   "cell_type": "code",
   "execution_count": 7,
   "metadata": {
    "collapsed": false
   },
   "outputs": [
    {
     "data": {
      "text/plain": [
       "<matplotlib.axes._subplots.AxesSubplot at 0x1141f5d50>"
      ]
     },
     "execution_count": 7,
     "metadata": {},
     "output_type": "execute_result"
    },
    {
     "data": {
      "image/png": "[encoded data removed]",
      "text/plain": [
       "<matplotlib.figure.Figure at 0x110807e50>"
      ]
     },
     "metadata": {},
     "output_type": "display_data"
    }
   ],
   "source": [
    "train_prod['relevance'].plot.hist(bins=10)"
   ]
  },
  {
   "cell_type": "code",
   "execution_count": 8,
   "metadata": {
    "collapsed": false,
    "scrolled": true
   },
   "outputs": [
    {
     "name": "stdout",
     "output_type": "stream",
     "text": [
      "[u'i', u'me', u'my', u'myself', u'we', u'our', u'ours', u'ourselves', u'you', u'your', u'yours', u'yourself', u'yourselves', u'he', u'him', u'his', u'himself', u'she', u'her', u'hers', u'herself', u'it', u'its', u'itself', u'they', u'them', u'their', u'theirs', u'themselves', u'what', u'which', u'who', u'whom', u'this', u'that', u'these', u'those', u'am', u'is', u'are', u'was', u'were', u'be', u'been', u'being', u'have', u'has', u'had', u'having', u'do', u'does', u'did', u'doing', u'a', u'an', u'the', u'and', u'but', u'if', u'or', u'because', u'as', u'until', u'while', u'of', u'at', u'by', u'for', u'with', u'about', u'against', u'between', u'into', u'through', u'during', u'before', u'after', u'above', u'below', u'to', u'from', u'up', u'down', u'in', u'out', u'on', u'off', u'over', u'under', u'again', u'further', u'then', u'once', u'here', u'there', u'when', u'where', u'why', u'how', u'all', u'any', u'both', u'each', u'few', u'more', u'most', u'other', u'some', u'such', u'no', u'nor', u'not', u'only', u'own', u'same', u'so', u'than', u'too', u'very', u's', u't', u'can', u'will', u'just', u'don', u'should', u'now', u'd', u'll', u'm', u'o', u're', u've', u'y', u'ain', u'aren', u'couldn', u'didn', u'doesn', u'hadn', u'hasn', u'haven', u'isn', u'ma', u'mightn', u'mustn', u'needn', u'shan', u'shouldn', u'wasn', u'weren', u'won', u'wouldn', 'also', 'allows', 'use', 'using', 'used', 'sold', 'includes', 'help', 'helps', 'features', 'great', 'easy', '1', '2', '3', '4', '5', '6', '10', 'may', 'look', 'included', 'quality', 'limited', 'perfect', 'ideal', 'need', 'offers', 'easily', 'vary', 'variety', 'finish', 'style', 'one', 'two', 'available', 'create', 'applications', 'comes', 'technology', 'make', 'makes', 'made', 'products', 'design', 'performance', 'install', 'two', 'keep', 'work', 'works', 'less', 'material', 'add', 'adds', 'added', 'provide', 'provides', 'life', 'set', 'in.', 'x', 'ft.', '-', 'per', '12', 'new', 'w', 'for', 'in', 'x', 'and', 'inch', 'with', 'in.', 'to', 'ft', 'sq.'] 231\n"
     ]
    }
   ],
   "source": [
    "# step2，remove common words from product_description using stopwords\n",
    "from nltk.corpus import stopwords\n",
    "sw=stopwords.words('english')\n",
    "custom_stopwords = [\"also\", \"allows\", \"use\", \"using\", \"used\", \"sold\", \"includes\", \"help\", \"helps\", \"features\", \"great\", \"easy\", \n",
    "                    \"1\", \"2\", \"3\", \"4\", \"5\", \"6\", \"10\", \"may\", \"look\", \"included\", \"quality\", \"limited\", \"perfect\", \"ideal\", \n",
    "                    \"need\", \"offers\", \"easily\", \"vary\", \"variety\", \"finish\", \"style\", \"one\", \"two\", \"available\", \"create\", \n",
    "                    \"applications\", \"comes\", \"technology\", \"make\", \"makes\", \"made\", \"products\", \"design\", \"performance\", \"install\",\n",
    "                   \"two\", \"keep\", \"work\", \"works\", \"less\", \"material\", \"add\", \"adds\", \"added\", \"provide\", \"provides\", \n",
    "                    \"life\", \"set\",'in.','x','ft.','-','per','12','new','w','for','in','x','and','inch','with','in.','to','ft','sq.']\n",
    "sw.extend(custom_stopwords)\n",
    "print sw,len(sw)"
   ]
  },
  {
   "cell_type": "code",
   "execution_count": 22,
   "metadata": {
    "collapsed": false
   },
   "outputs": [
    {
     "name": "stdout",
     "output_type": "stream",
     "text": [
      "showing info https://raw.githubusercontent.com/nltk/nltk_data/gh-pages/index.xml\n"
     ]
    },
    {
     "data": {
      "text/plain": [
       "True"
      ]
     },
     "execution_count": 22,
     "metadata": {},
     "output_type": "execute_result"
    }
   ],
   "source": [
    "import nltk\n",
    "nltk.download()"
   ]
  },
  {
   "cell_type": "code",
   "execution_count": 9,
   "metadata": {
    "collapsed": false,
    "scrolled": true
   },
   "outputs": [],
   "source": [
    "prod_desc_words=train_prod['product_description'].str.lower().str.split()\n"
   ]
  },
  {
   "cell_type": "code",
   "execution_count": 10,
   "metadata": {
    "collapsed": false
   },
   "outputs": [
    {
     "data": {
      "text/plain": [
       "0    [not, only, do, angles, make, joints, stronger...\n",
       "1    [not, only, do, angles, make, joints, stronger...\n",
       "2    [behr, premium, textured, deckover, is, an, in...\n",
       "3    [update, your, bathroom, with, the, delta, ver...\n",
       "4    [update, your, bathroom, with, the, delta, ver...\n",
       "dtype: object"
      ]
     },
     "execution_count": 10,
     "metadata": {},
     "output_type": "execute_result"
    }
   ],
   "source": [
    "prod_desc_words[:5]"
   ]
  },
  {
   "cell_type": "code",
   "execution_count": 11,
   "metadata": {
    "collapsed": false
   },
   "outputs": [],
   "source": [
    "#when add new stopwords,please run this line update\n",
    "prod_desc_words_rmsw=prod_desc_words.apply(lambda x: [item for item in x if item not in sw])"
   ]
  },
  {
   "cell_type": "code",
   "execution_count": 12,
   "metadata": {
    "collapsed": false
   },
   "outputs": [
    {
     "data": {
      "text/plain": [
       "0    [angles, joints, stronger,, consistent,, strai...\n",
       "1    [angles, joints, stronger,, consistent,, strai...\n",
       "2    [behr, premium, textured, deckover, innovative...\n",
       "3    [update, bathroom, delta, vero, single-handle,...\n",
       "4    [update, bathroom, delta, vero, single-handle,...\n",
       "dtype: object"
      ]
     },
     "execution_count": 12,
     "metadata": {},
     "output_type": "execute_result"
    }
   ],
   "source": [
    "prod_desc_words_rmsw[:5]"
   ]
  },
  {
   "cell_type": "code",
   "execution_count": 13,
   "metadata": {
    "collapsed": false
   },
   "outputs": [
    {
     "data": {
      "text/plain": [
       "6114367"
      ]
     },
     "execution_count": 13,
     "metadata": {},
     "output_type": "execute_result"
    }
   ],
   "source": [
    "#check description words\n",
    "prod_desc_list=[]\n",
    "for item in prod_desc_words_rmsw:\n",
    "    prod_desc_list.extend(item)\n",
    "len(prod_desc_list)"
   ]
  },
  {
   "cell_type": "code",
   "execution_count": 14,
   "metadata": {
    "collapsed": true
   },
   "outputs": [],
   "source": [
    "from collections import Counter\n",
    "cnt=Counter()\n",
    "for item in prod_desc_list:\n",
    "    cnt[item]+=1"
   ]
  },
  {
   "cell_type": "code",
   "execution_count": 15,
   "metadata": {
    "collapsed": false,
    "scrolled": true
   },
   "outputs": [
    {
     "name": "stdout",
     "output_type": "stream",
     "text": [
      "[('water', 25801), ('door', 21989), ('light', 21230), ('steel', 20081), ('installation', 19146), ('designed', 15583), ('home', 15540), ('wood', 14915), ('wall', 14532), ('65', 13826), ('residents:', 13658), ('see&nbsp;proposition', 13485), ('protection', 13032), ('air', 12592), ('construction', 12457), ('high', 12432), ('outdoor', 12431), ('system', 12260), ('energy', 11786), ('white', 11722), ('power', 11277), ('product', 11229), ('glass', 10698), ('standard', 10616), ('storage', 10315), ('surface', 10213), ('color', 9958), ('durable', 9935), ('warranty', 9854), ('control', 9659), ('paint', 9443), ('top', 9132), ('depot', 9122), ('without', 9027), ('resistant', 9026), ('clean', 8595), ('indoor', 8555), ('natural', 8501), ('kit', 8484), ('interior', 8233), ('metal', 8060), ('commercial', 7976), ('led', 7954), ('adjustable', 7943), ('plan:', 7630), ('hardware', 7570), ('tile', 7479), ('low', 7304), ('doors', 7261), ('handle', 7188), ('time', 7176), ('temperature', 7158), ('lifetime', 7003), ('room', 6952), ('solid', 6869), ('stainless', 6807), ('fit', 6799), ('aluminum', 6697), ('wide', 6676), ('residential', 6642), ('maximum', 6599), ('base', 6540), ('8', 6519), ('space', 6478), ('smooth', 6478), ('quick', 6455), ('battery', 6423), ('cabinet', 6386), ('heat', 6368), ('large', 6363), ('size', 6350), ('long', 6261), ('shower', 6202), ('floor', 6150), ('even', 6038), ('frame', 5889), ('lighting', 5832), ('exterior', 5812), ('year', 5807), ('fan', 5738), ('collection', 5673), ('durability', 5609), ('tool', 5609), ('prevent', 5593), ('installed', 5576), ('panel', 5570), ('trim', 5510), ('complete', 5373), ('including', 5371), ('mounting', 5371), ('traditional', 5348), ('kitchen', 5307), ('colors', 5277), ('range', 5233), ('free', 5230), ('store', 5188), ('plastic', 5150), ('strength', 5114), ('cooking', 5097), ('multiple', 5070)]\n"
     ]
    }
   ],
   "source": [
    "# top 100 most common words appear in description\n",
    "most_describe_words=cnt.most_common(100)\n",
    "print most_describe_words"
   ]
  },
  {
   "cell_type": "code",
   "execution_count": 16,
   "metadata": {
    "collapsed": false
   },
   "outputs": [
    {
     "data": {
      "text/plain": [
       "(array([ 48.,  21.,  11.,   8.,   5.,   2.,   1.,   2.,   1.,   1.]),\n",
       " array([  5070. ,   7143.1,   9216.2,  11289.3,  13362.4,  15435.5,\n",
       "         17508.6,  19581.7,  21654.8,  23727.9,  25801. ]),\n",
       " <a list of 10 Patch objects>)"
      ]
     },
     "execution_count": 16,
     "metadata": {},
     "output_type": "execute_result"
    },
    {
     "data": {
      "image/png": "[encoded data removed]",
      "text/plain": [
       "<matplotlib.figure.Figure at 0x11bf762d0>"
      ]
     },
     "metadata": {},
     "output_type": "display_data"
    }
   ],
   "source": [
    "words_describe=map(lambda x : x[0], most_describe_words)\n",
    "counts_describe=map(lambda x : x[1], most_describe_words)\n",
    "plt.hist(counts_describe)"
   ]
  },
  {
   "cell_type": "code",
   "execution_count": 17,
   "metadata": {
    "collapsed": false
   },
   "outputs": [
    {
     "data": {
      "text/plain": [
       "0          [angle, bracket]\n",
       "1              [l, bracket]\n",
       "2              [deck, over]\n",
       "3      [rain, shower, head]\n",
       "4    [shower, only, faucet]\n",
       "dtype: object"
      ]
     },
     "execution_count": 17,
     "metadata": {},
     "output_type": "execute_result"
    }
   ],
   "source": [
    "#check search words\n",
    "search_term_words=train_prod['search_term'].str.lower().str.split()\n",
    "search_term_words[:5]\n"
   ]
  },
  {
   "cell_type": "code",
   "execution_count": 18,
   "metadata": {
    "collapsed": false
   },
   "outputs": [
    {
     "data": {
      "text/plain": [
       "0        [angle, bracket]\n",
       "1            [l, bracket]\n",
       "2                  [deck]\n",
       "3    [rain, shower, head]\n",
       "4        [shower, faucet]\n",
       "dtype: object"
      ]
     },
     "execution_count": 18,
     "metadata": {},
     "output_type": "execute_result"
    }
   ],
   "source": [
    "#romve stopwords in search term\n",
    "search_term_words_rmsw=search_term_words.apply(lambda x: [item for item in x if item not in sw])\n",
    "search_term_words_rmsw[:5]"
   ]
  },
  {
   "cell_type": "code",
   "execution_count": 19,
   "metadata": {
    "collapsed": false
   },
   "outputs": [
    {
     "data": {
      "text/plain": [
       "214974"
      ]
     },
     "execution_count": 19,
     "metadata": {},
     "output_type": "execute_result"
    }
   ],
   "source": [
    "search_term_list=[]\n",
    "for item in search_term_words_rmsw:\n",
    "    search_term_list.extend(item)\n",
    "len(search_term_list)"
   ]
  },
  {
   "cell_type": "code",
   "execution_count": 20,
   "metadata": {
    "collapsed": false
   },
   "outputs": [],
   "source": [
    "from collections import Counter\n",
    "cnt_search=Counter()\n",
    "for item in search_term_list:\n",
    "    cnt_search[item]+=1"
   ]
  },
  {
   "cell_type": "code",
   "execution_count": 21,
   "metadata": {
    "collapsed": false,
    "scrolled": true
   },
   "outputs": [
    {
     "name": "stdout",
     "output_type": "stream",
     "text": [
      "[('door', 2679), ('light', 2021), ('wall', 1442), ('shower', 1429), ('white', 1354), ('wood', 1349), ('tile', 1338), ('paint', 1145), ('cabinet', 1061), ('outdoor', 1052), ('water', 1034), ('vanity', 977), ('kitchen', 969), ('bathroom', 963), ('doors', 960), ('gas', 925), ('led', 899), ('lights', 840), ('air', 839), ('ceiling', 805), ('sink', 801), ('1/2', 772), ('faucet', 772), ('kit', 770), ('floor', 766), ('saw', 736), ('fan', 729), ('black', 727), ('pipe', 725), ('steel', 710), ('window', 697), ('lighting', 691), ('electric', 669), ('metal', 658), ('glass', 624), ('patio', 602), ('heater', 596), ('toilet', 580), ('pvc', 580), ('wire', 568), ('fence', 548), ('cover', 531), ('drill', 527), ('bulb', 521), ('plastic', 521), ('tub', 499), ('base', 498), ('top', 495), ('storage', 489), ('range', 487), ('bay', 486), ('panel', 477), ('bronze', 474), ('vinyl', 471), ('battery', 461), ('post', 460), ('round', 455), ('cabinets', 442), ('filter', 437), ('1/4', 436), ('stainless', 435), ('table', 415), ('spray', 413), ('exterior', 413), ('double', 409), ('hose', 401), ('tool', 397), ('bath', 397), ('stone', 392), ('dewalt', 387), ('replacement', 384), ('3/4', 380), ('trim', 378), ('bar', 376), ('30', 369), ('washer', 369), ('box', 368), ('closet', 368), ('interior', 366), ('ge', 364), ('deck', 364), ('garage', 360), ('mount', 357), ('vent', 353), ('8', 352), ('garden', 350), ('solar', 350), ('cordless', 347), ('bulbs', 345), ('stove', 330), ('chrome', 323), ('drain', 320), ('hampton', 319), ('sliding', 318), ('36', 318), ('screen', 314), ('handle', 314), ('valve', 312), ('cable', 311), ('oak', 308)]\n"
     ]
    }
   ],
   "source": [
    "#top 100 most common words in search term\n",
    "most_search_words=cnt_search.most_common(100)\n",
    "print most_search_words"
   ]
  },
  {
   "cell_type": "code",
   "execution_count": 22,
   "metadata": {
    "collapsed": true
   },
   "outputs": [],
   "source": [
    "words_search=map(lambda x : x[0], most_search_words)\n",
    "counts_search=map(lambda x : x[1], most_search_words)"
   ]
  },
  {
   "cell_type": "code",
   "execution_count": 23,
   "metadata": {
    "collapsed": false
   },
   "outputs": [
    {
     "name": "stderr",
     "output_type": "stream",
     "text": [
      "/Users/shutan/Library/Enthought/Canopy_64bit/User/lib/python2.7/site-packages/matplotlib/figure.py:387: UserWarning: matplotlib is currently using a non-GUI backend, so cannot show the figure\n",
      "  \"matplotlib is currently using a non-GUI backend, \"\n"
     ]
    },
    {
     "data": {
      "image/png": "[encoded data removed]",
      "text/plain": [
       "<matplotlib.figure.Figure at 0x1479369d0>"
      ]
     },
     "metadata": {},
     "output_type": "display_data"
    }
   ],
   "source": [
    "fig=plt.figure(figsize=(8,8))\n",
    "ax1=fig.add_subplot(2,1,1)\n",
    "ax1.hist(counts_describe)\n",
    "ax1.set_title('product description')\n",
    "\n",
    "ax2=fig.add_subplot(2,1,2)\n",
    "ax2.hist(counts_search)\n",
    "ax2.set_title('search term')\n",
    "\n",
    "fig.show()"
   ]
  },
  {
   "cell_type": "code",
   "execution_count": 24,
   "metadata": {
    "collapsed": true
   },
   "outputs": [],
   "source": [
    "#co-occurrence matrix\n",
    "words_describe = np.array(words_describe)\n",
    "counts_describe = np.array(counts_describe)\n",
    "describe = np.dstack((words_describe, counts_describe))\n",
    "describe_df = pd.DataFrame(describe[0], columns=['word', 'count'])"
   ]
  },
  {
   "cell_type": "code",
   "execution_count": 25,
   "metadata": {
    "collapsed": true
   },
   "outputs": [],
   "source": [
    "words_search = np.array(words_search)\n",
    "counts_search = np.array(counts_search)\n",
    "search = np.dstack((words_search, counts_search))\n",
    "search_df = pd.DataFrame(search[0], columns=['word', 'count'])"
   ]
  },
  {
   "cell_type": "code",
   "execution_count": 26,
   "metadata": {
    "collapsed": false
   },
   "outputs": [
    {
     "name": "stdout",
     "output_type": "stream",
     "text": [
      "           word  count\n",
      "0         water  25801\n",
      "1          door  21989\n",
      "2         light  21230\n",
      "3         steel  20081\n",
      "4  installation  19146\n",
      "     word count\n",
      "0    door  2679\n",
      "1   light  2021\n",
      "2    wall  1442\n",
      "3  shower  1429\n",
      "4   white  1354\n"
     ]
    }
   ],
   "source": [
    "print describe_df[:5]\n",
    "print search_df[:5]"
   ]
  },
  {
   "cell_type": "code",
   "execution_count": 27,
   "metadata": {
    "collapsed": false,
    "scrolled": true
   },
   "outputs": [
    {
     "name": "stdout",
     "output_type": "stream",
     "text": [
      "['angle bracket' 'l bracket' 'deck over' ...,\n",
      " 'schlage lock siena half dummy knob with' 'zen garden  decor'\n",
      " 'fine sheer curtain 63 inches']\n"
     ]
    }
   ],
   "source": [
    "from collections import defaultdict\n",
    "print train_prod.search_term.values"
   ]
  },
  {
   "cell_type": "code",
   "execution_count": 28,
   "metadata": {
    "collapsed": false
   },
   "outputs": [
    {
     "name": "stdout",
     "output_type": "stream",
     "text": [
      "['door' 'light' 'wall' 'shower' 'white' 'wood' 'tile' 'paint' 'cabinet'\n",
      " 'outdoor' 'water' 'vanity' 'kitchen' 'bathroom' 'doors']\n"
     ]
    }
   ],
   "source": [
    "top_search_words = search_df.word.values[:15] \n",
    "print top_search_words"
   ]
  },
  {
   "cell_type": "code",
   "execution_count": 29,
   "metadata": {
    "collapsed": false
   },
   "outputs": [],
   "source": [
    "#top15 search term co-occurrence matrix\n",
    "co_occur=defaultdict(lambda: defaultdict(int))\n",
    "for item in train_prod.search_term.values:\n",
    "    words = item.split()\n",
    "    lst = filter(lambda x : x in top_search_words, words) \n",
    "    \n",
    "    for elem1 in lst:\n",
    "        for elem2 in lst:\n",
    "            if elem1 == elem2:\n",
    "                continue\n",
    "            co_occur[elem1][elem2] += 1"
   ]
  },
  {
   "cell_type": "code",
   "execution_count": 30,
   "metadata": {
    "collapsed": false
   },
   "outputs": [
    {
     "data": {
      "text/html": [
       "<div>\n",
       "<table border=\"1\" class=\"dataframe\">\n",
       "  <thead>\n",
       "    <tr style=\"text-align: right;\">\n",
       "      <th></th>\n",
       "      <th>bathroom</th>\n",
       "      <th>cabinet</th>\n",
       "      <th>door</th>\n",
       "      <th>doors</th>\n",
       "      <th>kitchen</th>\n",
       "      <th>light</th>\n",
       "      <th>outdoor</th>\n",
       "      <th>paint</th>\n",
       "      <th>shower</th>\n",
       "      <th>tile</th>\n",
       "      <th>vanity</th>\n",
       "      <th>wall</th>\n",
       "      <th>water</th>\n",
       "      <th>white</th>\n",
       "      <th>wood</th>\n",
       "    </tr>\n",
       "  </thead>\n",
       "  <tbody>\n",
       "    <tr>\n",
       "      <th>bathroom</th>\n",
       "      <td>0</td>\n",
       "      <td>21</td>\n",
       "      <td>16</td>\n",
       "      <td>0</td>\n",
       "      <td>0</td>\n",
       "      <td>91</td>\n",
       "      <td>0</td>\n",
       "      <td>0</td>\n",
       "      <td>10</td>\n",
       "      <td>0</td>\n",
       "      <td>173</td>\n",
       "      <td>24</td>\n",
       "      <td>0</td>\n",
       "      <td>22</td>\n",
       "      <td>1</td>\n",
       "    </tr>\n",
       "    <tr>\n",
       "      <th>cabinet</th>\n",
       "      <td>21</td>\n",
       "      <td>0</td>\n",
       "      <td>52</td>\n",
       "      <td>31</td>\n",
       "      <td>94</td>\n",
       "      <td>0</td>\n",
       "      <td>6</td>\n",
       "      <td>4</td>\n",
       "      <td>0</td>\n",
       "      <td>0</td>\n",
       "      <td>1</td>\n",
       "      <td>55</td>\n",
       "      <td>0</td>\n",
       "      <td>74</td>\n",
       "      <td>28</td>\n",
       "    </tr>\n",
       "    <tr>\n",
       "      <th>door</th>\n",
       "      <td>16</td>\n",
       "      <td>52</td>\n",
       "      <td>0</td>\n",
       "      <td>0</td>\n",
       "      <td>30</td>\n",
       "      <td>12</td>\n",
       "      <td>0</td>\n",
       "      <td>8</td>\n",
       "      <td>204</td>\n",
       "      <td>0</td>\n",
       "      <td>5</td>\n",
       "      <td>7</td>\n",
       "      <td>0</td>\n",
       "      <td>43</td>\n",
       "      <td>78</td>\n",
       "    </tr>\n",
       "    <tr>\n",
       "      <th>doors</th>\n",
       "      <td>0</td>\n",
       "      <td>31</td>\n",
       "      <td>0</td>\n",
       "      <td>0</td>\n",
       "      <td>0</td>\n",
       "      <td>0</td>\n",
       "      <td>0</td>\n",
       "      <td>4</td>\n",
       "      <td>78</td>\n",
       "      <td>0</td>\n",
       "      <td>0</td>\n",
       "      <td>0</td>\n",
       "      <td>0</td>\n",
       "      <td>20</td>\n",
       "      <td>22</td>\n",
       "    </tr>\n",
       "    <tr>\n",
       "      <th>kitchen</th>\n",
       "      <td>0</td>\n",
       "      <td>94</td>\n",
       "      <td>30</td>\n",
       "      <td>0</td>\n",
       "      <td>0</td>\n",
       "      <td>6</td>\n",
       "      <td>0</td>\n",
       "      <td>1</td>\n",
       "      <td>0</td>\n",
       "      <td>17</td>\n",
       "      <td>0</td>\n",
       "      <td>37</td>\n",
       "      <td>0</td>\n",
       "      <td>42</td>\n",
       "      <td>9</td>\n",
       "    </tr>\n",
       "    <tr>\n",
       "      <th>light</th>\n",
       "      <td>91</td>\n",
       "      <td>0</td>\n",
       "      <td>12</td>\n",
       "      <td>0</td>\n",
       "      <td>6</td>\n",
       "      <td>0</td>\n",
       "      <td>98</td>\n",
       "      <td>14</td>\n",
       "      <td>8</td>\n",
       "      <td>0</td>\n",
       "      <td>101</td>\n",
       "      <td>74</td>\n",
       "      <td>0</td>\n",
       "      <td>35</td>\n",
       "      <td>6</td>\n",
       "    </tr>\n",
       "    <tr>\n",
       "      <th>outdoor</th>\n",
       "      <td>0</td>\n",
       "      <td>6</td>\n",
       "      <td>0</td>\n",
       "      <td>0</td>\n",
       "      <td>0</td>\n",
       "      <td>98</td>\n",
       "      <td>0</td>\n",
       "      <td>0</td>\n",
       "      <td>0</td>\n",
       "      <td>0</td>\n",
       "      <td>0</td>\n",
       "      <td>84</td>\n",
       "      <td>9</td>\n",
       "      <td>30</td>\n",
       "      <td>1</td>\n",
       "    </tr>\n",
       "    <tr>\n",
       "      <th>paint</th>\n",
       "      <td>0</td>\n",
       "      <td>4</td>\n",
       "      <td>8</td>\n",
       "      <td>4</td>\n",
       "      <td>1</td>\n",
       "      <td>14</td>\n",
       "      <td>0</td>\n",
       "      <td>0</td>\n",
       "      <td>0</td>\n",
       "      <td>7</td>\n",
       "      <td>0</td>\n",
       "      <td>30</td>\n",
       "      <td>6</td>\n",
       "      <td>70</td>\n",
       "      <td>32</td>\n",
       "    </tr>\n",
       "    <tr>\n",
       "      <th>shower</th>\n",
       "      <td>10</td>\n",
       "      <td>0</td>\n",
       "      <td>204</td>\n",
       "      <td>78</td>\n",
       "      <td>0</td>\n",
       "      <td>8</td>\n",
       "      <td>0</td>\n",
       "      <td>0</td>\n",
       "      <td>0</td>\n",
       "      <td>39</td>\n",
       "      <td>0</td>\n",
       "      <td>10</td>\n",
       "      <td>0</td>\n",
       "      <td>8</td>\n",
       "      <td>0</td>\n",
       "    </tr>\n",
       "    <tr>\n",
       "      <th>tile</th>\n",
       "      <td>0</td>\n",
       "      <td>0</td>\n",
       "      <td>0</td>\n",
       "      <td>0</td>\n",
       "      <td>17</td>\n",
       "      <td>0</td>\n",
       "      <td>0</td>\n",
       "      <td>7</td>\n",
       "      <td>39</td>\n",
       "      <td>0</td>\n",
       "      <td>0</td>\n",
       "      <td>136</td>\n",
       "      <td>0</td>\n",
       "      <td>64</td>\n",
       "      <td>10</td>\n",
       "    </tr>\n",
       "    <tr>\n",
       "      <th>vanity</th>\n",
       "      <td>173</td>\n",
       "      <td>1</td>\n",
       "      <td>5</td>\n",
       "      <td>0</td>\n",
       "      <td>0</td>\n",
       "      <td>101</td>\n",
       "      <td>0</td>\n",
       "      <td>0</td>\n",
       "      <td>0</td>\n",
       "      <td>0</td>\n",
       "      <td>0</td>\n",
       "      <td>9</td>\n",
       "      <td>0</td>\n",
       "      <td>125</td>\n",
       "      <td>0</td>\n",
       "    </tr>\n",
       "    <tr>\n",
       "      <th>wall</th>\n",
       "      <td>24</td>\n",
       "      <td>55</td>\n",
       "      <td>7</td>\n",
       "      <td>0</td>\n",
       "      <td>37</td>\n",
       "      <td>74</td>\n",
       "      <td>84</td>\n",
       "      <td>30</td>\n",
       "      <td>10</td>\n",
       "      <td>136</td>\n",
       "      <td>9</td>\n",
       "      <td>0</td>\n",
       "      <td>0</td>\n",
       "      <td>46</td>\n",
       "      <td>11</td>\n",
       "    </tr>\n",
       "    <tr>\n",
       "      <th>water</th>\n",
       "      <td>0</td>\n",
       "      <td>0</td>\n",
       "      <td>0</td>\n",
       "      <td>0</td>\n",
       "      <td>0</td>\n",
       "      <td>0</td>\n",
       "      <td>9</td>\n",
       "      <td>6</td>\n",
       "      <td>0</td>\n",
       "      <td>0</td>\n",
       "      <td>0</td>\n",
       "      <td>0</td>\n",
       "      <td>0</td>\n",
       "      <td>10</td>\n",
       "      <td>1</td>\n",
       "    </tr>\n",
       "    <tr>\n",
       "      <th>white</th>\n",
       "      <td>22</td>\n",
       "      <td>74</td>\n",
       "      <td>43</td>\n",
       "      <td>20</td>\n",
       "      <td>42</td>\n",
       "      <td>35</td>\n",
       "      <td>30</td>\n",
       "      <td>70</td>\n",
       "      <td>8</td>\n",
       "      <td>64</td>\n",
       "      <td>125</td>\n",
       "      <td>46</td>\n",
       "      <td>10</td>\n",
       "      <td>0</td>\n",
       "      <td>2</td>\n",
       "    </tr>\n",
       "    <tr>\n",
       "      <th>wood</th>\n",
       "      <td>1</td>\n",
       "      <td>28</td>\n",
       "      <td>78</td>\n",
       "      <td>22</td>\n",
       "      <td>9</td>\n",
       "      <td>6</td>\n",
       "      <td>1</td>\n",
       "      <td>32</td>\n",
       "      <td>0</td>\n",
       "      <td>10</td>\n",
       "      <td>0</td>\n",
       "      <td>11</td>\n",
       "      <td>1</td>\n",
       "      <td>2</td>\n",
       "      <td>0</td>\n",
       "    </tr>\n",
       "  </tbody>\n",
       "</table>\n",
       "</div>"
      ],
      "text/plain": [
       "          bathroom  cabinet  door  doors  kitchen  light  outdoor  paint  \\\n",
       "bathroom         0       21    16      0        0     91        0      0   \n",
       "cabinet         21        0    52     31       94      0        6      4   \n",
       "door            16       52     0      0       30     12        0      8   \n",
       "doors            0       31     0      0        0      0        0      4   \n",
       "kitchen          0       94    30      0        0      6        0      1   \n",
       "light           91        0    12      0        6      0       98     14   \n",
       "outdoor          0        6     0      0        0     98        0      0   \n",
       "paint            0        4     8      4        1     14        0      0   \n",
       "shower          10        0   204     78        0      8        0      0   \n",
       "tile             0        0     0      0       17      0        0      7   \n",
       "vanity         173        1     5      0        0    101        0      0   \n",
       "wall            24       55     7      0       37     74       84     30   \n",
       "water            0        0     0      0        0      0        9      6   \n",
       "white           22       74    43     20       42     35       30     70   \n",
       "wood             1       28    78     22        9      6        1     32   \n",
       "\n",
       "          shower  tile  vanity  wall  water  white  wood  \n",
       "bathroom      10     0     173    24      0     22     1  \n",
       "cabinet        0     0       1    55      0     74    28  \n",
       "door         204     0       5     7      0     43    78  \n",
       "doors         78     0       0     0      0     20    22  \n",
       "kitchen        0    17       0    37      0     42     9  \n",
       "light          8     0     101    74      0     35     6  \n",
       "outdoor        0     0       0    84      9     30     1  \n",
       "paint          0     7       0    30      6     70    32  \n",
       "shower         0    39       0    10      0      8     0  \n",
       "tile          39     0       0   136      0     64    10  \n",
       "vanity         0     0       0     9      0    125     0  \n",
       "wall          10   136       9     0      0     46    11  \n",
       "water          0     0       0     0      0     10     1  \n",
       "white          8    64     125    46     10      0     2  \n",
       "wood           0    10       0    11      1      2     0  "
      ]
     },
     "execution_count": 30,
     "metadata": {},
     "output_type": "execute_result"
    }
   ],
   "source": [
    "co_pd = pd.DataFrame.from_dict(co_occur)\n",
    "co_pd.fillna(0, inplace = True)\n",
    "co_pd"
   ]
  },
  {
   "cell_type": "code",
   "execution_count": 31,
   "metadata": {
    "collapsed": false
   },
   "outputs": [
    {
     "name": "stdout",
     "output_type": "stream",
     "text": [
      "['water' 'door' 'light' 'steel' 'installation' 'designed' 'home' 'wood'\n",
      " 'wall' '65' 'residents:' 'see&nbsp;proposition' 'protection' 'air'\n",
      " 'construction']\n"
     ]
    }
   ],
   "source": [
    "top_describe_words=describe_df.word.values[:15]\n",
    "print top_describe_words"
   ]
  },
  {
   "cell_type": "code",
   "execution_count": 32,
   "metadata": {
    "collapsed": true
   },
   "outputs": [],
   "source": [
    "#top15 description words co-occurrence matrix\n",
    "co_occur2=defaultdict(lambda: defaultdict(int))\n",
    "for item in train_prod.product_description.values:\n",
    "    words = item.split()\n",
    "    lst = filter(lambda x : x in top_describe_words, words) \n",
    "    \n",
    "    for elem1 in lst:\n",
    "        for elem2 in lst:\n",
    "            if elem1 == elem2:\n",
    "                continue\n",
    "            co_occur2[elem1][elem2] += 1"
   ]
  },
  {
   "cell_type": "code",
   "execution_count": 33,
   "metadata": {
    "collapsed": false,
    "scrolled": false
   },
   "outputs": [
    {
     "data": {
      "text/html": [
       "<div>\n",
       "<table border=\"1\" class=\"dataframe\">\n",
       "  <thead>\n",
       "    <tr style=\"text-align: right;\">\n",
       "      <th></th>\n",
       "      <th>65</th>\n",
       "      <th>air</th>\n",
       "      <th>construction</th>\n",
       "      <th>designed</th>\n",
       "      <th>door</th>\n",
       "      <th>home</th>\n",
       "      <th>installation</th>\n",
       "      <th>light</th>\n",
       "      <th>protection</th>\n",
       "      <th>residents:</th>\n",
       "      <th>steel</th>\n",
       "      <th>wall</th>\n",
       "      <th>water</th>\n",
       "      <th>wood</th>\n",
       "    </tr>\n",
       "  </thead>\n",
       "  <tbody>\n",
       "    <tr>\n",
       "      <th>65</th>\n",
       "      <td>0</td>\n",
       "      <td>1165</td>\n",
       "      <td>2182</td>\n",
       "      <td>2109</td>\n",
       "      <td>4616</td>\n",
       "      <td>1938</td>\n",
       "      <td>2257</td>\n",
       "      <td>3345</td>\n",
       "      <td>1043</td>\n",
       "      <td>13719</td>\n",
       "      <td>3321</td>\n",
       "      <td>1332</td>\n",
       "      <td>4342</td>\n",
       "      <td>4938</td>\n",
       "    </tr>\n",
       "    <tr>\n",
       "      <th>air</th>\n",
       "      <td>1165</td>\n",
       "      <td>0</td>\n",
       "      <td>1406</td>\n",
       "      <td>3047</td>\n",
       "      <td>3114</td>\n",
       "      <td>3608</td>\n",
       "      <td>5027</td>\n",
       "      <td>2580</td>\n",
       "      <td>1041</td>\n",
       "      <td>1384</td>\n",
       "      <td>2103</td>\n",
       "      <td>2138</td>\n",
       "      <td>7932</td>\n",
       "      <td>695</td>\n",
       "    </tr>\n",
       "    <tr>\n",
       "      <th>construction</th>\n",
       "      <td>2182</td>\n",
       "      <td>1406</td>\n",
       "      <td>0</td>\n",
       "      <td>2298</td>\n",
       "      <td>6373</td>\n",
       "      <td>1544</td>\n",
       "      <td>3634</td>\n",
       "      <td>2356</td>\n",
       "      <td>960</td>\n",
       "      <td>2160</td>\n",
       "      <td>5269</td>\n",
       "      <td>1910</td>\n",
       "      <td>3406</td>\n",
       "      <td>3158</td>\n",
       "    </tr>\n",
       "    <tr>\n",
       "      <th>designed</th>\n",
       "      <td>2109</td>\n",
       "      <td>3047</td>\n",
       "      <td>2298</td>\n",
       "      <td>0</td>\n",
       "      <td>3492</td>\n",
       "      <td>1751</td>\n",
       "      <td>3550</td>\n",
       "      <td>3591</td>\n",
       "      <td>1065</td>\n",
       "      <td>2054</td>\n",
       "      <td>4628</td>\n",
       "      <td>2574</td>\n",
       "      <td>5644</td>\n",
       "      <td>2014</td>\n",
       "    </tr>\n",
       "    <tr>\n",
       "      <th>door</th>\n",
       "      <td>4616</td>\n",
       "      <td>3114</td>\n",
       "      <td>6373</td>\n",
       "      <td>3492</td>\n",
       "      <td>0</td>\n",
       "      <td>5800</td>\n",
       "      <td>8040</td>\n",
       "      <td>4170</td>\n",
       "      <td>1357</td>\n",
       "      <td>4607</td>\n",
       "      <td>8225</td>\n",
       "      <td>3823</td>\n",
       "      <td>6080</td>\n",
       "      <td>7344</td>\n",
       "    </tr>\n",
       "    <tr>\n",
       "      <th>home</th>\n",
       "      <td>1938</td>\n",
       "      <td>3608</td>\n",
       "      <td>1544</td>\n",
       "      <td>1751</td>\n",
       "      <td>5800</td>\n",
       "      <td>0</td>\n",
       "      <td>3367</td>\n",
       "      <td>4800</td>\n",
       "      <td>857</td>\n",
       "      <td>1981</td>\n",
       "      <td>2361</td>\n",
       "      <td>2309</td>\n",
       "      <td>6150</td>\n",
       "      <td>2700</td>\n",
       "    </tr>\n",
       "    <tr>\n",
       "      <th>installation</th>\n",
       "      <td>2257</td>\n",
       "      <td>5027</td>\n",
       "      <td>3634</td>\n",
       "      <td>3550</td>\n",
       "      <td>8040</td>\n",
       "      <td>3367</td>\n",
       "      <td>0</td>\n",
       "      <td>4968</td>\n",
       "      <td>970</td>\n",
       "      <td>2174</td>\n",
       "      <td>4362</td>\n",
       "      <td>6102</td>\n",
       "      <td>7547</td>\n",
       "      <td>3666</td>\n",
       "    </tr>\n",
       "    <tr>\n",
       "      <th>light</th>\n",
       "      <td>3345</td>\n",
       "      <td>2580</td>\n",
       "      <td>2356</td>\n",
       "      <td>3591</td>\n",
       "      <td>4170</td>\n",
       "      <td>4800</td>\n",
       "      <td>4968</td>\n",
       "      <td>0</td>\n",
       "      <td>1029</td>\n",
       "      <td>3181</td>\n",
       "      <td>2426</td>\n",
       "      <td>3670</td>\n",
       "      <td>1853</td>\n",
       "      <td>1748</td>\n",
       "    </tr>\n",
       "    <tr>\n",
       "      <th>protection</th>\n",
       "      <td>1043</td>\n",
       "      <td>1041</td>\n",
       "      <td>960</td>\n",
       "      <td>1065</td>\n",
       "      <td>1357</td>\n",
       "      <td>857</td>\n",
       "      <td>970</td>\n",
       "      <td>1029</td>\n",
       "      <td>0</td>\n",
       "      <td>1016</td>\n",
       "      <td>1234</td>\n",
       "      <td>494</td>\n",
       "      <td>1724</td>\n",
       "      <td>1866</td>\n",
       "    </tr>\n",
       "    <tr>\n",
       "      <th>residents:</th>\n",
       "      <td>13719</td>\n",
       "      <td>1384</td>\n",
       "      <td>2160</td>\n",
       "      <td>2054</td>\n",
       "      <td>4607</td>\n",
       "      <td>1981</td>\n",
       "      <td>2174</td>\n",
       "      <td>3181</td>\n",
       "      <td>1016</td>\n",
       "      <td>0</td>\n",
       "      <td>3280</td>\n",
       "      <td>1280</td>\n",
       "      <td>5193</td>\n",
       "      <td>4916</td>\n",
       "    </tr>\n",
       "    <tr>\n",
       "      <th>steel</th>\n",
       "      <td>3321</td>\n",
       "      <td>2103</td>\n",
       "      <td>5269</td>\n",
       "      <td>4628</td>\n",
       "      <td>8225</td>\n",
       "      <td>2361</td>\n",
       "      <td>4362</td>\n",
       "      <td>2426</td>\n",
       "      <td>1234</td>\n",
       "      <td>3280</td>\n",
       "      <td>0</td>\n",
       "      <td>2349</td>\n",
       "      <td>5998</td>\n",
       "      <td>2912</td>\n",
       "    </tr>\n",
       "    <tr>\n",
       "      <th>wall</th>\n",
       "      <td>1332</td>\n",
       "      <td>2138</td>\n",
       "      <td>1910</td>\n",
       "      <td>2574</td>\n",
       "      <td>3823</td>\n",
       "      <td>2309</td>\n",
       "      <td>6102</td>\n",
       "      <td>3670</td>\n",
       "      <td>494</td>\n",
       "      <td>1280</td>\n",
       "      <td>2349</td>\n",
       "      <td>0</td>\n",
       "      <td>4276</td>\n",
       "      <td>2404</td>\n",
       "    </tr>\n",
       "    <tr>\n",
       "      <th>water</th>\n",
       "      <td>4342</td>\n",
       "      <td>7932</td>\n",
       "      <td>3406</td>\n",
       "      <td>5644</td>\n",
       "      <td>6080</td>\n",
       "      <td>6150</td>\n",
       "      <td>7547</td>\n",
       "      <td>1853</td>\n",
       "      <td>1724</td>\n",
       "      <td>5193</td>\n",
       "      <td>5998</td>\n",
       "      <td>4276</td>\n",
       "      <td>0</td>\n",
       "      <td>2642</td>\n",
       "    </tr>\n",
       "    <tr>\n",
       "      <th>wood</th>\n",
       "      <td>4938</td>\n",
       "      <td>695</td>\n",
       "      <td>3158</td>\n",
       "      <td>2014</td>\n",
       "      <td>7344</td>\n",
       "      <td>2700</td>\n",
       "      <td>3666</td>\n",
       "      <td>1748</td>\n",
       "      <td>1866</td>\n",
       "      <td>4916</td>\n",
       "      <td>2912</td>\n",
       "      <td>2404</td>\n",
       "      <td>2642</td>\n",
       "      <td>0</td>\n",
       "    </tr>\n",
       "  </tbody>\n",
       "</table>\n",
       "</div>"
      ],
      "text/plain": [
       "                 65   air  construction  designed  door  home  installation  \\\n",
       "65                0  1165          2182      2109  4616  1938          2257   \n",
       "air            1165     0          1406      3047  3114  3608          5027   \n",
       "construction   2182  1406             0      2298  6373  1544          3634   \n",
       "designed       2109  3047          2298         0  3492  1751          3550   \n",
       "door           4616  3114          6373      3492     0  5800          8040   \n",
       "home           1938  3608          1544      1751  5800     0          3367   \n",
       "installation   2257  5027          3634      3550  8040  3367             0   \n",
       "light          3345  2580          2356      3591  4170  4800          4968   \n",
       "protection     1043  1041           960      1065  1357   857           970   \n",
       "residents:    13719  1384          2160      2054  4607  1981          2174   \n",
       "steel          3321  2103          5269      4628  8225  2361          4362   \n",
       "wall           1332  2138          1910      2574  3823  2309          6102   \n",
       "water          4342  7932          3406      5644  6080  6150          7547   \n",
       "wood           4938   695          3158      2014  7344  2700          3666   \n",
       "\n",
       "              light  protection  residents:  steel  wall  water  wood  \n",
       "65             3345        1043       13719   3321  1332   4342  4938  \n",
       "air            2580        1041        1384   2103  2138   7932   695  \n",
       "construction   2356         960        2160   5269  1910   3406  3158  \n",
       "designed       3591        1065        2054   4628  2574   5644  2014  \n",
       "door           4170        1357        4607   8225  3823   6080  7344  \n",
       "home           4800         857        1981   2361  2309   6150  2700  \n",
       "installation   4968         970        2174   4362  6102   7547  3666  \n",
       "light             0        1029        3181   2426  3670   1853  1748  \n",
       "protection     1029           0        1016   1234   494   1724  1866  \n",
       "residents:     3181        1016           0   3280  1280   5193  4916  \n",
       "steel          2426        1234        3280      0  2349   5998  2912  \n",
       "wall           3670         494        1280   2349     0   4276  2404  \n",
       "water          1853        1724        5193   5998  4276      0  2642  \n",
       "wood           1748        1866        4916   2912  2404   2642     0  "
      ]
     },
     "execution_count": 33,
     "metadata": {},
     "output_type": "execute_result"
    }
   ],
   "source": [
    "co_pd2 = pd.DataFrame.from_dict(co_occur2)\n",
    "co_pd2.fillna(0, inplace = True)\n",
    "co_pd2"
   ]
  },
  {
   "cell_type": "code",
   "execution_count": 40,
   "metadata": {
    "collapsed": true
   },
   "outputs": [],
   "source": [
    "label=['door' ,'light', 'wall', 'shower' ,'white', 'wood', 'tile', 'paint', 'cabinet','outdoor' ,'water',\n",
    "       'vanity', 'kitchen' ,'bathroom', 'doors']"
   ]
  },
  {
   "cell_type": "code",
   "execution_count": 39,
   "metadata": {
    "collapsed": false,
    "scrolled": true
   },
   "outputs": [
    {
     "data": {
      "image/png": "[encoded data removed]",
      "text/plain": [
       "<matplotlib.figure.Figure at 0x14a792150>"
      ]
     },
     "metadata": {},
     "output_type": "display_data"
    }
   ],
   "source": [
    "\n",
    "plt.pcolor(co_pd,cmap=plt.cm.Reds)\n",
    "plt.colorbar()\n",
    "plt.set_cmap\n",
    "plt.show()"
   ]
  },
  {
   "cell_type": "code",
   "execution_count": 66,
   "metadata": {
    "collapsed": false,
    "scrolled": false
   },
   "outputs": [
    {
     "data": {
      "image/png": "[encoded data removed]",
      "text/plain": [
       "<matplotlib.figure.Figure at 0x121310590>"
      ]
     },
     "metadata": {},
     "output_type": "display_data"
    }
   ],
   "source": [
    "plt.pcolor(co_pd2,cmap=plt.cm.Blues)\n",
    "plt.colorbar()\n",
    "plt.set_cmap\n",
    "plt.show()"
   ]
  },
  {
   "cell_type": "code",
   "execution_count": 45,
   "metadata": {
    "collapsed": false,
    "scrolled": true
   },
   "outputs": [
    {
     "name": "stdout",
     "output_type": "stream",
     "text": [
      "                                                   0\n",
      "0  [angles, joints, stronger,, consistent,, strai...\n",
      "1  [angles, joints, stronger,, consistent,, strai...\n",
      "2  [behr, premium, textured, deckover, innovative...\n",
      "3  [update, bathroom, delta, vero, single-handle,...\n",
      "4  [update, bathroom, delta, vero, single-handle,...\n",
      "                      0\n",
      "0      [angle, bracket]\n",
      "1          [l, bracket]\n",
      "2                [deck]\n",
      "3  [rain, shower, head]\n",
      "4      [shower, faucet]\n"
     ]
    }
   ],
   "source": [
    "#prod_desc_words_rmsw\n",
    "#search_term_words_rmsw find excatly match\n",
    "df_desc=pd.DataFrame(prod_desc_words_rmsw)\n",
    "df_search=pd.DataFrame(search_term_words_rmsw)\n",
    "print df_desc[:5]\n",
    "print df_search[:5]"
   ]
  }
 ],
 "metadata": {
  "kernelspec": {
   "display_name": "Python 2",
   "language": "python",
   "name": "python2"
  },
  "language_info": {
   "codemirror_mode": {
    "name": "ipython",
    "version": 2
   },
   "file_extension": ".py",
   "mimetype": "text/x-python",
   "name": "python",
   "nbconvert_exporter": "python",
   "pygments_lexer": "ipython2",
   "version": "2.7.10"
  }
 },
 "nbformat": 4,
 "nbformat_minor": 0
}
